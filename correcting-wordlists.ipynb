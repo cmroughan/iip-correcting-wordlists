{
 "cells": [
  {
   "cell_type": "markdown",
   "metadata": {},
   "source": [
    "# Correcting Wordlists\n",
    "\n",
    "This notebook corrects the data in the currently available wordlists for Greek, Aramaic, Hebrew, and Latin to be more fully normalized and to correctly link back to the wordIDs in question.\n",
    "\n",
    "Further, for the case of Greek, this notebook collapses cases of variant accentuation into a single row of data. It is not desirable for καί and καὶ to be treated as separate grammatical forms."
   ]
  },
  {
   "cell_type": "code",
   "execution_count": 1,
   "metadata": {
    "collapsed": true
   },
   "outputs": [],
   "source": [
    "import csv\n",
    "import re\n",
    "import unicodedata\n",
    "from lxml import etree\n",
    "from greek_accentuation.accentuation import *\n",
    "from greek_accentuation.syllabify import *\n",
    "from greek_accentuation.characters import *"
   ]
  },
  {
   "cell_type": "code",
   "execution_count": 2,
   "metadata": {
    "collapsed": true
   },
   "outputs": [],
   "source": [
    "grcCSV = open('csvs_old/Tagged GreekMasterNew - GreekMasterNew.csv', newline='')\n",
    "grc = list(csv.reader(grcCSV))\n",
    "grcCSV.close()\n",
    "\n",
    "latCSV = open('csvs_old/Tagged LatinMasterNew - NewFormat.csv', newline='')\n",
    "lat = list(csv.reader(latCSV))\n",
    "latCSV.close()\n",
    "\n",
    "hebCSV = open('csvs_old/Tagged HebrewMasterNew - HebrewTestOutput.csv', newline='')\n",
    "heb = list(csv.reader(hebCSV))\n",
    "hebCSV.close()\n",
    "\n",
    "arcCSV = open('csvs_old/Tagged AramaicMasterNew - aramaic-master.csv', newline='')\n",
    "arc = list(csv.reader(arcCSV))\n",
    "arcCSV.close()\n",
    "\n",
    "langCSVs = {'grc': grc, 'lat': lat, 'heb': heb, 'arc': arc}"
   ]
  },
  {
   "cell_type": "code",
   "execution_count": 3,
   "metadata": {
    "collapsed": true
   },
   "outputs": [],
   "source": [
    "#from greek_accentuation.characters import *\n",
    "#import unicodedata\n",
    "\n",
    "def grave_to_accute(word):\n",
    "    characters = []\n",
    "    for ch in word:\n",
    "        if 'VARIA' in unicodedata.name(ch):\n",
    "            characters.append(add_diacritic(strip_accents(ch), ACUTE))\n",
    "        else:\n",
    "            characters.append(ch)\n",
    "    normalizedWord = ''.join(characters)\n",
    "    \n",
    "    return normalizedWord"
   ]
  },
  {
   "cell_type": "code",
   "execution_count": 4,
   "metadata": {
    "collapsed": true,
    "scrolled": false
   },
   "outputs": [],
   "source": [
    "#import unicodedata\n",
    "\n",
    "def oxia_to_tonos(word):\n",
    "    characters = []\n",
    "    for ch in word:\n",
    "        if 'OXIA' in unicodedata.name(ch):\n",
    "            characters.append(unicodedata.normalize('NFC',ch))\n",
    "        else:\n",
    "            characters.append(ch)\n",
    "    normalizedWord = ''.join(characters)\n",
    "    \n",
    "    return normalizedWord"
   ]
  },
  {
   "cell_type": "code",
   "execution_count": 5,
   "metadata": {
    "collapsed": true
   },
   "outputs": [],
   "source": [
    "#import unicodedata\n",
    "\n",
    "def remove_diaeresis(word):\n",
    "    convDict = {\n",
    "        'ΐ': 'ί', #GREEK SMALL LETTER IOTA WITH DIALYTIKA AND TONOS\n",
    "        'Ϊ': 'Ι', #GREEK CAPITAL LETTER IOTA WITH DIALYTIKA\n",
    "        'Ϋ': 'Υ', #GREEK CAPITAL LETTER UPSILON WITH DIALYTIKA\n",
    "        'ΰ': 'ύ', #GREEK SMALL LETTER UPSILON WITH DIALYTIKA AND TONOS\n",
    "        'ϊ': 'ι', #GREEK SMALL LETTER IOTA WITH DIALYTIKA\n",
    "        'ϋ': 'υ', #GREEK SMALL LETTER UPSILON WITH DIALYTIKA\n",
    "        'ῒ': 'ὶ', #GREEK SMALL LETTER IOTA WITH DIALYTIKA AND VARIA\n",
    "        'ΐ': 'ί', #GREEK SMALL LETTER IOTA WITH DIALYTIKA AND OXIA\n",
    "        'ῗ': 'ῖ', #GREEK SMALL LETTER IOTA WITH DIALYTIKA AND PERISPOMENI\n",
    "        'ῢ': 'ὺ', #GREEK SMALL LETTER UPSILON WITH DIALYTIKA AND VARIA\n",
    "        'ΰ': 'ύ', #GREEK SMALL LETTER UPSILON WITH DIALYTIKA AND OXIA\n",
    "        'ῧ': 'ῦ', #GREEK SMALL LETTER UPSILON WITH DIALYTIKA AND PERISPOMENI\n",
    "    }\n",
    "    characters = []\n",
    "    for ch in word:\n",
    "        if 'DIALYTIKA' in unicodedata.name(ch):\n",
    "            characters.append(convDict[ch])\n",
    "        else:\n",
    "            characters.append(ch)\n",
    "            \n",
    "    return \"\".join(characters)"
   ]
  },
  {
   "cell_type": "code",
   "execution_count": 6,
   "metadata": {
    "collapsed": true,
    "scrolled": true
   },
   "outputs": [],
   "source": [
    "#import unicodedata\n",
    "\n",
    "def check_for_diacritics(word):\n",
    "    diacritics = []\n",
    "    for ch in word:\n",
    "        chName = unicodedata.name(ch)\n",
    "        if 'DIALYTIKA' in chName:\n",
    "            diacritics.append('diaeresis')\n",
    "        if 'TONOS' in chName or 'OXIA' in chName or 'VARIA' in chName or 'PERISPOMENI' in chName:\n",
    "            diacritics.append('accent')\n",
    "        if 'DASIA' in chName or 'PSILI' in chName:\n",
    "            diacritics.append('breathing')\n",
    "    diacritics = list(set(diacritics))\n",
    "    \n",
    "    return diacritics"
   ]
  },
  {
   "cell_type": "code",
   "execution_count": 7,
   "metadata": {
    "collapsed": true,
    "scrolled": true
   },
   "outputs": [],
   "source": [
    "#from greek_accentuation.syllabify import *\n",
    "#import unicodedata\n",
    "\n",
    "def check_for_breathing(word):\n",
    "    breathing = False\n",
    "    if is_vowel(word[0]) == True:\n",
    "        syllables = syllabify(word)\n",
    "        for ch in syllables[0]:\n",
    "            chName = unicodedata.name(ch)\n",
    "            if 'DASIA' in chName or 'PSILI' in chName:\n",
    "                breathing = True\n",
    "    return breathing"
   ]
  },
  {
   "cell_type": "code",
   "execution_count": 8,
   "metadata": {
    "collapsed": true
   },
   "outputs": [],
   "source": [
    "#import re\n",
    "\n",
    "def handle_lunate_sigmas(word):\n",
    "    while re.search(r\"ϲ\",word.lower()):\n",
    "        word = re.sub(r\"Ϲ\",\"Σ\",word)\n",
    "        word = re.sub(r\"(.*)ϲ$\",'\\\\1ς',word)\n",
    "        word = re.sub(r\"(.*)ϲ(.+)\",'\\\\1σ\\\\2',word)\n",
    "        \n",
    "    return word"
   ]
  },
  {
   "cell_type": "code",
   "execution_count": 9,
   "metadata": {
    "collapsed": true
   },
   "outputs": [],
   "source": [
    "#import re\n",
    "\n",
    "def handle_apostrophes(word):\n",
    "    # APOSTROPHE\n",
    "    # MODIFIER LETTER APOSTROPHE\n",
    "    # GREEK TONOS\n",
    "    # GREEK KORONIS\n",
    "    # GREEK PSILI\n",
    "    # GREEK OXIA\n",
    "    # RIGHT SINGLE QUOTATION MARK\n",
    "    # GREEK NUMERAL SIGN\n",
    "    \n",
    "    # all replaced with RIGHT SINGLE QUOTATION MARK\n",
    "    word = re.sub(r\"['ʼ΄᾽᾿´’ʹ]\",\"’\", word)\n",
    "    \n",
    "    return word"
   ]
  },
  {
   "cell_type": "code",
   "execution_count": 10,
   "metadata": {
    "collapsed": true
   },
   "outputs": [],
   "source": [
    "def only_greek_characters(word):\n",
    "    codeblocks = {'grc1': [int('0370',16),int('03FF',16)],\n",
    "                  'grc2': [int('1F00',16),int('1FFF',16)]}\n",
    "    characters = []\n",
    "    for ch in word:\n",
    "        if ch == '’':\n",
    "            characters.append(ch)\n",
    "        # Greek and Coptic\n",
    "        elif codeblocks['grc1'][0] <= ord(ch) <= codeblocks['grc1'][1]:\n",
    "            characters.append(ch)\n",
    "        # Greek Extended\n",
    "        elif codeblocks['grc2'][0] <= ord(ch) <= codeblocks['grc2'][1]:\n",
    "            characters.append(ch)\n",
    "        \n",
    "    return \"\".join(characters)"
   ]
  },
  {
   "cell_type": "code",
   "execution_count": 11,
   "metadata": {
    "collapsed": true
   },
   "outputs": [],
   "source": [
    "#import re\n",
    "\n",
    "def only_latin_characters(word):\n",
    "    word = \"\".join([ch for ch in word if re.match(r\"[a-zA-Z]\", ch)])\n",
    "    return word"
   ]
  },
  {
   "cell_type": "code",
   "execution_count": 12,
   "metadata": {
    "collapsed": true
   },
   "outputs": [],
   "source": [
    "#import re\n",
    "\n",
    "def only_hebrew_characters(word):\n",
    "    word = \"\".join([ch for ch in word if re.match(r\"[֑-ת]\", ch) or ch == '_'])\n",
    "    return word"
   ]
  },
  {
   "cell_type": "code",
   "execution_count": 13,
   "metadata": {
    "collapsed": true
   },
   "outputs": [],
   "source": [
    "#import re\n",
    "\n",
    "def unpointed_hebrew(word):\n",
    "    word = \"\".join([ch for ch in word if re.match(r\"[א-ת]\", ch) or ch == '_'])\n",
    "    return word"
   ]
  },
  {
   "cell_type": "code",
   "execution_count": 14,
   "metadata": {
    "collapsed": true
   },
   "outputs": [],
   "source": [
    "#import unicodedata\n",
    "\n",
    "def count_accents(word):\n",
    "    count = 0\n",
    "    for ch in word:\n",
    "        chName = unicodedata.name(ch)\n",
    "        if 'TONOS' in chName or 'OXIA' in chName or 'VARIA' in chName or 'PERISPOMENI' in chName:\n",
    "            count+=1\n",
    "            \n",
    "    return count"
   ]
  },
  {
   "cell_type": "code",
   "execution_count": 15,
   "metadata": {
    "collapsed": true
   },
   "outputs": [],
   "source": [
    "def normalize_lang(word, pos=None, lang=None, point=False):\n",
    "    if lang == None:\n",
    "        print('normalize_lang: No language declared.')\n",
    "        exit()\n",
    "    # strip whitespace\n",
    "    word = word.strip()\n",
    "    # combining characters\n",
    "    word = unicodedata.normalize('NFC', word)\n",
    "    # handle apostrophes\n",
    "    word = handle_apostrophes(word)\n",
    "    # handle upper/lowercase\n",
    "    if lang == 'grc' or lang == 'lat':\n",
    "        if pos != None:\n",
    "            if pos.strip().upper() == 'PROPN':\n",
    "                word = word.title()\n",
    "            else:\n",
    "                word = word.lower()\n",
    "                \n",
    "    # LATIN\n",
    "    if lang == 'lat':\n",
    "        # strip non-Latin characters\n",
    "        word = only_latin_characters(word)\n",
    "    # GREEK\n",
    "    if lang == 'grc':\n",
    "        # Latin o to Greek omicron\n",
    "        word = word.replace('o','ο')\n",
    "        # strip non-Greek characters\n",
    "        word = only_greek_characters(word)\n",
    "        # handle lunate sigmas\n",
    "        word = handle_lunate_sigmas(word)\n",
    "        # handle diacritics\n",
    "        diacritics = check_for_diacritics(word)\n",
    "        if 'diaeresis' in diacritics:\n",
    "            word = remove_diaeresis(word)\n",
    "        if 'accent' in diacritics:\n",
    "            word = oxia_to_tonos(grave_to_accute(word))\n",
    "    # HEBREW / ARAMAIC\n",
    "    if lang == 'heb' or lang == 'arc':\n",
    "        if point == True:\n",
    "            word = only_hebrew_characters(word)\n",
    "        else:\n",
    "            word = unpointed_hebrew(word)\n",
    "    \n",
    "    return word"
   ]
  },
  {
   "cell_type": "code",
   "execution_count": 16,
   "metadata": {
    "collapsed": true
   },
   "outputs": [],
   "source": [
    "def get_occur_list(occurString):\n",
    "    occurs = occurString.split()\n",
    "    cleanedOccurs = []\n",
    "    for occur in occurs:\n",
    "        fileID, count = occur.split('-')\n",
    "        count = count.strip(',')\n",
    "        fileID = fileID.split('.')[0]\n",
    "        cleanedOccurs.append(f\"{fileID}-{count}\")\n",
    "    cleanedOccurs = list(set(cleanedOccurs))\n",
    "    return cleanedOccurs"
   ]
  },
  {
   "cell_type": "code",
   "execution_count": 17,
   "metadata": {
    "collapsed": true
   },
   "outputs": [],
   "source": [
    "def normalize_row(row, lang=None):\n",
    "    if lang == None:\n",
    "        print('normalize_row: No language declared.')\n",
    "        exit()\n",
    "\n",
    "    word = normalize_lang(row[0], pos=row[3], lang=lang)\n",
    "    occurr = \", \".join(get_occur_list(row[1]))\n",
    "    lemma = normalize_lang(row[2], pos=row[3], lang=lang, point=True)\n",
    "    normID = f\"w-{word}\"\n",
    "    \n",
    "    normalizedRow = [word, occurr, lemma, row[3].strip(), normID]\n",
    "    normalizedRow = normalizedRow + [item.strip() for item in row[5:]]\n",
    "\n",
    "    return normalizedRow"
   ]
  },
  {
   "cell_type": "markdown",
   "metadata": {},
   "source": [
    "# ===============\n",
    "# > The Process\n",
    "# ===============\n",
    "\n",
    "The following is the process for Greek:\n",
    "\n",
    "1. Strip whitespace.\n",
    "2. Handle combining characters. Combine if possible, delete if not (step 4).\n",
    "3. Normalize apostrophes / number signs (end of word only).\n",
    "  - Shouldn't be any numbers since we're only looking at words.\n",
    "4. Strip non-Greek characters.\n",
    "  - To be robust about this, should check that all characters are within the relevant Unicode code blocks (Greek and Coptic, Greek Extended, ~~Combining Diacritical Marks~~ allowed apostrophe).\n",
    "5. Check POS. If PROPN, titlecase. Otherwise, lowercase.\n",
    "6. Handle lunate sigmas.\n",
    "7. Remove diaereses.\n",
    "8. Convert grave accents to acute accents.\n",
    "9. Handle acute accent duplication (standardize oxia to tonos).\n",
    "\n",
    "If exact match after this, great! Merge the wordID occurrences. If not, pick the wordform with the most occurrences and use that as the default form.\n",
    "\n",
    "And so in the future, when matching segmented wods to these CSVs, they will be normalized following the same steps as above (minus the PROPN check) and compared to the sheet. The researcher will then select which entry is correct, or input a new entry.allowed\n",
    "\n",
    "Other languages follow similar steps, without the Greek particulars. For Hebrew and Aramaic, pointing is removed for the Normalized wordform column and the NormalizedID, but maintained for the Lemma."
   ]
  },
  {
   "cell_type": "code",
   "execution_count": 18,
   "metadata": {
    "collapsed": true
   },
   "outputs": [],
   "source": [
    "newCSVs = {}\n",
    "\n",
    "for lang in langCSVs:\n",
    "    \n",
    "    seen = {}\n",
    "\n",
    "    for row in langCSVs[lang]:\n",
    "        # skip header rows\n",
    "        if row[0].strip() == 'Normalized' or row[0].strip() == '':\n",
    "            continue\n",
    "            \n",
    "        # normalize data\n",
    "        normalizedRow = normalize_row(row, lang=lang)\n",
    "\n",
    "        word = normalizedRow[0]\n",
    "        lemma = normalizedRow[2]\n",
    "\n",
    "        noAccent = \"\".join([unicodedata.normalize(\"NFD\", ch)[0].lower() for ch in word])\n",
    "        newData = \" | \".join([noAccent, lemma, normalizedRow[3], normalizedRow[5]])\n",
    "        if newData not in seen:\n",
    "            seen[newData] = {}\n",
    "        if word not in seen[newData]:\n",
    "            seen[newData][word] = []\n",
    "\n",
    "        # condense any duplicates if they differ ONLY in occurrences\n",
    "        noOccRow = [word, lemma] + [normalizedRow[3], normalizedRow[5]]\n",
    "        matchBool = False\n",
    "        for i, seenRow in enumerate(seen[newData][word]):\n",
    "            noOccSeenRow = [seenRow[0], seenRow[2], seenRow[3], seenRow[5]]\n",
    "            if noOccRow == noOccSeenRow:\n",
    "                matchBool = True\n",
    "                # combine occurrences\n",
    "                oldOcc = seen[newData][word][i][1]\n",
    "                newOcc = row[1]\n",
    "                seen[newData][word][i][1] = \", \".join(get_occur_list(f\"{oldOcc} {newOcc}\"))\n",
    "    #             print(seen[newData][word][i])\n",
    "\n",
    "        if matchBool == False:\n",
    "            seen[newData][word].append(normalizedRow)\n",
    "\n",
    "\n",
    "    # build new CSV\n",
    "    newCSV = []\n",
    "    for noAccent in seen:\n",
    "        for wordform in seen[noAccent]:\n",
    "            for row in seen[noAccent][wordform]:\n",
    "                newCSV.append(row)\n",
    "                \n",
    "    newCSVs[lang] = newCSV"
   ]
  },
  {
   "cell_type": "markdown",
   "metadata": {},
   "source": [
    "# Check against XML. Correct Occurrences.\n",
    "\n",
    "This process is drawing from the code in the notebook validate_create-new-sheets."
   ]
  },
  {
   "cell_type": "code",
   "execution_count": 19,
   "metadata": {
    "scrolled": true
   },
   "outputs": [
    {
     "name": "stdout",
     "output_type": "stream",
     "text": [
      "\n",
      "GRC\n",
      "===\n",
      "91978 wordIDs, with duplicates.\n",
      "17124 unique wordIDs.\n",
      "2049 unique files.\n",
      "Error for file hmti0003.xml\n",
      "Error for file jeru0196.xml\n",
      "Error for file jeru0237.xml\n",
      "Error for file caes0412.xml\n",
      "Error for file gers0001.xml\n",
      "Error for file hmti0004.xml\n",
      "Error for file halu0001.xml\n",
      "Error for file anri0001.xml\n",
      "Error for file rehn0001.xml\n",
      "Error for file dora0002.xml\n",
      "Error for file hmti0005.xml\n",
      "Error for file knah0002.xml\n",
      "\n",
      "LAT\n",
      "===\n",
      "2213 wordIDs, with duplicates.\n",
      "1045 unique wordIDs.\n",
      "122 unique files.\n",
      "\n",
      "HEB\n",
      "===\n",
      "1624 wordIDs, with duplicates.\n",
      "1624 unique wordIDs.\n",
      "369 unique files.\n",
      "Error for file masa0037.xml\n",
      "Error for file masa0039.xml\n",
      "Error for file masa0038.xml\n",
      "Error for file seph0100.xml\n",
      "Error for file jeru0305.xml\n",
      "Error for file jent0006.xml\n",
      "\n",
      "ARC\n",
      "===\n",
      "7951 wordIDs, with duplicates.\n",
      "7951 unique wordIDs.\n",
      "1334 unique files.\n"
     ]
    }
   ],
   "source": [
    "workdir = \"/data/Data/Projects/iip/github/iip-texts/epidoc-files/\"\n",
    "parser = etree.XMLParser(ns_clean=True, remove_blank_text=False)\n",
    "\n",
    "wordsWithXML = {}\n",
    "    \n",
    "allWordOccurr = {'grc': [], 'lat': [], 'heb': [], 'arc': []}\n",
    "allFileOccurr = {'grc': [], 'lat': [], 'heb': [], 'arc': []}\n",
    "\n",
    "for lang in newCSVs:\n",
    "\n",
    "    for row in newCSVs[lang]:\n",
    "        if row[0].strip() == 'Normalized' or row[0].strip() == '':\n",
    "            pass  # This is to skip header rows\n",
    "        else:\n",
    "            occurrs = row[1].split(\", \")\n",
    "            for occurr in occurrs:\n",
    "                allWordOccurr[lang].append(occurr)\n",
    "                allFileOccurr[lang].append(occurr.split('-')[0])\n",
    "\n",
    "    print(f\"\\n{lang.upper()}\\n===\")\n",
    "    print(len(allWordOccurr[lang]),\"wordIDs, with duplicates.\")\n",
    "    allWordOccurr[lang] = list(set(allWordOccurr[lang]))\n",
    "    allFileOccurr[lang] = list(set(allFileOccurr[lang]))\n",
    "    print(len(allWordOccurr[lang]),\"unique wordIDs.\")\n",
    "    print(len(allFileOccurr[lang]),\"unique files.\")\n",
    "    \n",
    "    for fileID in allFileOccurr[lang]:\n",
    "        fileID = fileID.split('.')[0]\n",
    "        if fileID not in wordsWithXML:\n",
    "            wordsWithXML[fileID] = {}\n",
    "        file = fileID + '.xml'\n",
    "        try:\n",
    "            xmlText = etree.parse(workdir+file, parser)\n",
    "\n",
    "            nsmap = {'tei': \"http://www.tei-c.org/ns/1.0\"}\n",
    "            ns = {'tei': \"http://www.tei-c.org/ns/1.0\"}\n",
    "            TEI_NS = \"{http://www.tei-c.org/ns/1.0}\"\n",
    "            XML_NS = \"{http://www.w3.org/XML/1998/namespace}\"\n",
    "\n",
    "            segmented_words = xmlText.findall(\".//tei:div[@subtype=\\'transcription_segmented\\']/tei:p/*\", namespaces=nsmap)\n",
    "\n",
    "            for segmented in segmented_words:\n",
    "                #print(etree.tostring(segmented))\n",
    "                wordID = segmented.attrib['{http://www.w3.org/XML/1998/namespace}id']\n",
    "                if wordID.split('-')[0] != fileID:\n",
    "                    print('Error: mismatch between',fileID,'and',wordID)\n",
    "\n",
    "                wordElem = etree.tostring(segmented, encoding='unicode').strip()\n",
    "\n",
    "                if wordID in wordsWithXML[fileID]:\n",
    "                    pass\n",
    "                else:\n",
    "                    wordsWithXML[fileID][wordID] = wordElem\n",
    "        except:\n",
    "            print('Error for file',file)"
   ]
  },
  {
   "cell_type": "code",
   "execution_count": 20,
   "metadata": {
    "collapsed": true
   },
   "outputs": [],
   "source": [
    "# Function to remove element without losing tail text, if present.\n",
    "# Function either attaches tail text of removed element to tail\n",
    "# text of previous element, if extant, or adds it to the text of\n",
    "# the parent element.\n",
    "# From https://github.com/OaklandPeters/til/blob/master/til/python/lxml-and-tail-text.md\n",
    "def remove_element(elem):\n",
    "    parent = elem.getparent()\n",
    "    if elem.tail:\n",
    "        prev = elem.getprevious()\n",
    "        if prev is not None:\n",
    "            if prev.tail:\n",
    "                prev.tail += elem.tail\n",
    "            else:\n",
    "                prev.tail = elem.tail\n",
    "        else:\n",
    "            if parent.text:\n",
    "                parent.text += elem.tail\n",
    "            else:\n",
    "                parent.text = elem.tail\n",
    "    parent.remove(elem)"
   ]
  },
  {
   "cell_type": "code",
   "execution_count": 21,
   "metadata": {
    "collapsed": true
   },
   "outputs": [],
   "source": [
    "wordsFromXML = dict()\n",
    "chars = []\n",
    "\n",
    "for fileID in wordsWithXML:\n",
    "    wordsFromXML[fileID] = dict()\n",
    "    for tokenID in wordsWithXML[fileID]:\n",
    "        xmlText = etree.fromstring(wordsWithXML[fileID][tokenID], parser)\n",
    "        if xmlText.tag == '{http://www.tei-c.org/ns/1.0}w':\n",
    "            \n",
    "            for sic in xmlText.xpath(\".//tei:choice//tei:sic\", namespaces=nsmap):\n",
    "                remove_element(sic)\n",
    "            for orig in xmlText.xpath(\".//tei:choice//tei:orig\", namespaces=nsmap):\n",
    "                remove_element(orig)\n",
    "            for am in xmlText.xpath(\".//tei:expan//tei:am\", namespaces=nsmap):\n",
    "                remove_element(am)\n",
    "            for surplus in xmlText.xpath(\".//tei:surplus\", namespaces=nsmap):\n",
    "                remove_element(surplus)\n",
    "            for g in xmlText.xpath(\".//tei:g\", namespaces=nsmap):\n",
    "                remove_element(g)\n",
    "                \n",
    "            # We do need something to handle multiple <unclear>s in a <choice>.\n",
    "            # Not handled yet. Maybe duplicate the wordID with the two alternatives?\n",
    "            \n",
    "            grcBool = False\n",
    "            xmlLang = xmlText.attrib['{http://www.w3.org/XML/1998/namespace}lang']\n",
    "            if xmlLang == 'grc':\n",
    "                grcBool = True\n",
    "            # note, nothing in XML to indicate proper noun. so when checking, will\n",
    "            # have to use .lower() on the words from both the CSV and the XML\n",
    "            \n",
    "            word = ''.join(xmlText.itertext())\n",
    "            if xmlLang == 'grc':\n",
    "                word = normalize_lang(word, lang='grc')\n",
    "            elif 'la' in xmlLang:\n",
    "                word = normalize_lang(word, lang='lat')\n",
    "            elif 'arc' in xmlLang:\n",
    "                word = normalize_lang(word, lang='arc')\n",
    "            elif 'he' in xmlLang:\n",
    "                word = normalize_lang(word, lang='heb')\n",
    "            \n",
    "            word2 = ''\n",
    "            for char in word:\n",
    "                # This is to remove control characters which were appearing in the chars list\n",
    "                if unicodedata.category(char) == 'Cc':\n",
    "                    pass\n",
    "                else:\n",
    "                    word2 = word2+char\n",
    "                    if char not in chars:\n",
    "                        chars.append(char)\n",
    "                        \n",
    "            wordsFromXML[fileID][tokenID] = word2"
   ]
  },
  {
   "cell_type": "code",
   "execution_count": 22,
   "metadata": {
    "collapsed": true
   },
   "outputs": [],
   "source": [
    "# new CSVs with corrections for what wordIDs are actual occurrences,\n",
    "# per the XML\n",
    "validatedCSVs = {}\n",
    "# keeping track of wordIDs in this new CSV\n",
    "validatedWordIDs = []\n",
    "\n",
    "for lang in newCSVs:\n",
    "    validatedCSV = []\n",
    "\n",
    "    for row in newCSVs[lang]:\n",
    "        occurrs = row[1].split(', ')\n",
    "        correctOccurrs = []\n",
    "\n",
    "        for occurr in occurrs:\n",
    "            fileID, count = occurr.split('-')\n",
    "\n",
    "            if fileID not in wordsFromXML:\n",
    "                continue\n",
    "            if occurr not in wordsFromXML[fileID]:\n",
    "                continue\n",
    "\n",
    "            wordToCompare = wordsFromXML[fileID][occurr].lower()\n",
    "\n",
    "            if row[0].lower() == wordToCompare:\n",
    "                correctOccurrs.append(occurr)\n",
    "                if occurr not in validatedWordIDs:\n",
    "                    validatedWordIDs.append(occurr)\n",
    "\n",
    "        newRow = [row[0], \", \".join(correctOccurrs)] + row[2:]\n",
    "        validatedCSV.append(newRow)\n",
    "        \n",
    "    validatedCSVs[lang] = validatedCSV"
   ]
  },
  {
   "cell_type": "code",
   "execution_count": 23,
   "metadata": {},
   "outputs": [
    {
     "name": "stdout",
     "output_type": "stream",
     "text": [
      "1826\n",
      "['haif0042-3', 'zoor0247-3', 'huqo0001-21', 'jord0001-176', 'jaff0057-6', 'zoor0243-14', 'jord0001-52', 'jord0001-420', 'jeru0449-14', 'zoor0035-9', 'zoor0331-10', 'khus0003-2', 'zoor0373-10', 'emma0002-1', 'jord0001-322', 'hmti0004-4', 'jord0001-294', 'beth0105-4', 'jord0001-97', 'caes0267-2', 'jord0001-375', 'zoor0270-1', 'zoor0355-7', 'jord0001-272', 'zoor0104-1', 'jord0001-343', 'zoor0337-18', 'jord0001-178', 'zoor0245-6', 'jord0001-53', 'zoor0294-4', 'zoor0202-17', 'zoor0262-26', 'zoor0368-12', 'masa0430-1', 'beth0263-2', 'jord0001-494', 'zoor0001-5', 'masa0416-3', 'zoor0339-18', 'jord0001-398', 'jeru0305-8', 'mare0301-1', 'jord0001-88', 'zoor0332-2', 'jord0001-470', 'jeru0357-5', 'jord0001-95', 'masa0549-1', 'gers0001-7', 'jord0001-487', 'rafi0008-3', 'hefz0001-62', 'hamm0002-11', 'bshe0024-73', 'beth0246-2', 'emma0002-3', 'zoor0115-1', 'jord0001-241', 'idum0303-3', 'jeru0492-29', 'masa0696-3', 'birs0005-6', 'bshe0131-1', 'jord0001-483', 'shik0003-6', 'caes0256-4', 'qumr0001-36', 'caes0333-2', 'zoor0331-12', 'zoor0067-12', 'jord0001-436', 'jord0001-378', 'huqo0001-15', 'beth0271-3', 'beth0251-1', 'hamm0049-73', 'zoor0329-14', 'jeru0492-26', 'jord0001-75', 'zoor0242-12', 'jeru0237-6', 'jord0001-255', 'jeru0492-15', 'rehn0001-3', 'qumr0001-25', 'gers0001-3', 'jeru0459-3', 'jeru0492-30', 'jord0001-45', 'caes0156-30', 'ashk0002-7', 'jord0001-539', 'jeru0441-1', 'jord0001-318', 'zoor0371-2', 'jord0001-42', 'hadi0001-2', 'jeru0237-33', 'elus0089-4', 'jord0001-349', 'jord0001-451', 'birs0005-5', 'jeru0427-3', 'jeru0572-37', 'zoor0245-14', 'qumr0002-4', 'jord0001-115', 'zoor0208-8', 'beth0248-6', 'jord0001-136', 'mare0008-3', 'masa0416-2', 'jord0001-478', 'masa0038-3', 'jord0001-320', 'jord0001-27', 'jord0001-446', 'ahma0003-4', 'jord0001-199', 'caes0412-2', 'mare0470-1', 'jeru0349-1', 'jord0001-546', 'zoor0261-13', 'jord0001-104', 'jord0001-566', 'zoor0334-9', 'zoor0209-26', 'masa0360-2', 'zoor0377-4', 'tibe0001-6', 'caes0065-3', 'jeru0350-3', 'jord0001-399', 'beth0248-4', 'zoor0334-22', 'jord0001-341', 'mare0011-6', 'jord0001-419', 'masa0537-2', 'balf0001-2', 'beth0261-11', 'natt0004-1', 'zoor0115-21', 'zoor0011-1', 'jord0001-122', 'qumr0001-30', 'jord0001-430', 'qumr0001-15', 'zoor0243-1', 'jord0001-245', 'zoor0332-18', 'suhm0002-14', 'beth0248-14', 'jord0001-308', 'zoor0385-15', 'jeru0382-1', 'jeru0357-27', 'jord0001-11', 'jeru0450-3', 'masa0449-13', 'jord0001-267', 'arch0005-13', 'fiqg0008-3', 'jord0001-236', 'huqo0001-18', 'jord0001-330', 'zoor0372-17', 'jord0001-496', 'zoor0338-22', 'caes0291-1', 'zoor0335-4', 'jord0001-385', 'rehn0001-4', 'zoor0328-10', 'caes0412-3', 'jord0001-503', 'zoor0289-9', 'natt0005-1', 'jord0001-18', 'beth0266-1', 'mare0424-2', 'jord0001-221', 'jord0001-554', 'zoor0035-7', 'mare0227-131', 'jurn0003-4', 'jent0001-1', 'qumr0001-5', 'zoor0330-4', 'jord0001-242', 'masa0452-5', 'zoor0184-3', 'masa0429-1', 'jord0001-304', 'zoor0196-6', 'beth0198-1', 'beth0195-1', 'sena0004-1', 'zoor0337-7', 'jeru0492-13', 'jord0001-481', 'jord0001-233', 'zoor0335-5', 'zoor0357-10', 'zoor0327-2', 'caes0442-5', 'jeru0305-3', 'hamm0005-3', 'jord0001-170', 'caes0277-2', 'zoor0338-7', 'hmti0004-18', 'jord0001-92', 'jeru0237-7', 'zoor0024-4', 'beth0261-5', 'mare0301-9', 'caes0142-4', 'jord0001-413', 'zoor0067-1', 'hamm0049-13', 'jord0001-192', 'zoor0373-6', 'maay0001-15', 'zoor0357-3', 'jeru0327-4', 'jeru0237-36', 'zoor0203-3', 'mare0441-2', 'hadi0001-9', 'zoor0017-4', 'zoor0332-19', 'jeru0440-2', 'hero0004-2', 'zoor0324-10', 'beth0246-10', 'mare0441-1', 'huqo0001-20', 'zoor0035-1', 'rafi0002-9', 'jord0001-211', 'masa0485-1', 'natt0007-2', 'zoor0336-14', 'beth0215-4', 'jord0001-384', 'zoor0335-2', 'jeru0237-3', 'zoor0226-21', 'jord0001-514', 'beth0246-14', 'beth0263-4', 'zoor0385-7', 'masa0781-5', 'mare0228-8', 'jord0001-502', 'jord0001-15', 'jeru0237-39', 'anri0001-9', 'beth0248-8', 'jeru0369-2', 'zoor0187-3', 'caes0376-1', 'bshe0127-1', 'zoor0374-1', 'jord0001-4', 'jord0001-124', 'jeru0237-10', 'zoor0221-17', 'beth0237-35', 'jord0001-459', 'zoor0356-22', 'caes0271-3', 'zoor0170-14', 'susi0012-2', 'jord0001-161', 'zoor0377-20', 'aris0001-3', 'jord0001-50', 'huqo0001-12', 'zoor0197-5', 'tibe0001-10', 'jeru0237-21', 'akko0006-1', 'masa0540-3', 'masa0549-2', 'jord0001-98', 'rafi0012-4', 'zoor0374-2', 'caes0250-3', 'jeru0237-35', 'caes0442-1', 'jord0001-404', 'jord0001-163', 'hamm0029-3', 'jord0001-24', 'jord0001-66', 'jord0001-22', 'zoor0333-3', 'masa0595-1', 'jord0001-79', 'jord0001-73', 'zoor0226-6', 'beth0261-8', 'jord0001-36', 'caes0324-2', 'zoor0348-1', 'idum0169-10', 'hmti0003-4', 'masa0401-3', 'zoor0067-13', 'rafi0005-3', 'zoor0354-2', 'caes0086-2', 'zoor0201-9', 'jeru0341-1', 'jord0001-93', 'beth0248-3', 'zoor0322-2', 'masa0401-2', 'jeru0372-2', 'zoor0354-1', 'jord0001-251', 'jord0001-146', 'jord0001-450', 'jord0001-55', 'zoor0257-31', 'jeru0237-12', 'jeru0449-15', 'jord0001-431', 'zoor0187-10', 'beth0266-2', 'zoor0182-23', 'zoor0087-6', 'jord0001-311', 'jeru0434-2', 'jord0001-300', 'zoor0377-8', 'mare0440-1', 'ulat0001-15', 'masa0934-1', 'zoor0104-22', 'hmti0004-8', 'jord0001-353', 'jeru0357-8', 'jaff0057-7', 'jord0001-30', 'jeru0122-2', 'zoor0067-5', 'jord0001-368', 'jord0001-350', 'masa0539-2', 'jord0001-84', 'jeru0410-1', 'zoor0001-11', 'jord0001-17', 'jord0001-205', 'beth0246-7', 'zoor0257-35', 'jord0001-135', 'masa0401-4', 'jeru0357-25', 'mare0432-1', 'jord0001-190', 'masa0778-3', 'jord0001-547', 'caes0232-3', 'mare0187-1', 'jord0001-305', 'jord0001-471', 'zoor0197-24', 'jord0001-288', 'beth0248-10', 'beth0238-8', 'mare0136-64', 'sena0006-3', 'bshe0101-4', 'jord0001-449', 'jeru0492-12', 'caes0355-2', 'knah0002-10', 'jord0001-538', 'zoor0005-1', 'mare0190-1', 'zoor0255-8', 'birs0009-1', 'hamm0010-25', 'zoor0427-28', 'zoor0202-21', 'kede0004-9', 'jord0001-182', 'knah0002-8', 'zoor0257-10', 'zoor0384-9', 'jord0001-218', 'jeru0305-6', 'jord0001-253', 'qumr0001-4', 'zoor0337-14', 'caes0344-3', 'qumr0001-22', 'jord0001-10', 'khis0086-6', 'zoor0245-15', 'suhm0002-9', 'jeru0492-28', 'natt0006-1', 'zoor0216-14', 'zoor0386-4', 'jeru0349-3', 'jord0001-181', 'jeru0485-2', 'zoor0328-6', 'fein0001-15', 'knah0002-4', 'masa0784-1', 'jeru0237-44', 'zoor0104-7', 'jeru0237-23', 'beth0178-2', 'beth0239-12', 'jord0001-513', 'mare0181-13', 'beth0208-1', 'jeru0357-19', 'jord0001-126', 'jord0001-455', 'qumr0001-27', 'zoor0216-1', 'suhm0002-8', 'rafi0005-5', 'jord0001-458', 'zoor0228-9', 'jord0001-171', 'jeru0237-43', 'jord0001-379', 'jord0001-109', 'mare0008-1', 'bshe0101-3', 'zoor0355-25', 'jord0001-131', 'kama0003-4', 'jeru0357-26', 'jord0001-202', 'jeru0357-16', 'kzaa0002-5', 'jord0001-230', 'idum0169-4', 'birs0008-8', 'zoor0219-4', 'beth0248-7', 'zoor0209-25', 'jord0001-551', 'jord0001-552', 'tibe0001-8', 'beth0271-2', 'jord0001-359', 'jord0001-58', 'caes0378-4', 'caes0312-1', 'masa0484-7', 'zoor0075-18', 'evro0002-23', 'jord0001-482', 'jord0001-469', 'zoor0325-1', 'zoor0202-26', 'jeru0237-4', 'masa0932-8', 'masa0696-1', 'caes0156-24', 'khir0001-4', 'jord0001-243', 'mare0181-22', 'jord0001-125', 'jord0001-316', 'rehn0001-5', 'jord0001-357', 'jord0001-19', 'zoor0201-23', 'jord0001-342', 'jent0006-1', 'zoor0335-7', 'qumr0001-44', 'zoor0338-4', 'zoor0121-3', 'zoor0292-10', 'jord0001-203', 'masa0484-5', 'jord0001-90', 'jord0001-364', 'tibe0005-4', 'gaza0110-3', 'jeru0083-4', 'jord0001-23', 'jeru0501-2', 'jord0001-434', 'jeru0492-21', 'masa0418-1', 'kiss0003-14', 'jord0001-226', 'jeru0300-9', 'jord0001-524', 'zoor0001-7', 'zoor0202-6', 'hmti0005-3', 'jeru0237-1', 'zoor0331-20', 'zoor0242-9', 'jord0001-485', 'zoor0328-1', 'jeru0492-8', 'zoor0355-18', 'zoor0333-1', 'caes0335-1', 'jeru0357-14', 'jeru0512-1', 'gers0001-8', 'jord0001-187', 'jeru0334-2', 'beth0272-3', 'jeru0546-7', 'caes0412-1', 'caes0075-1', 'masa0929-1', 'bani0100-1', 'zoor0351-4', 'mare0181-14', 'qumr0002-2', 'zoor0339-4', 'zoor0377-17', 'jeru0303-12', 'jord0001-382', 'masa0449-8', 'zoor0377-15', 'knah0002-2', 'zoor0433-9', 'jeru0492-10', 'zoor0355-14', 'jord0001-361', 'jeru0358-1', 'jaff0057-8', 'jord0001-133', 'jord0001-167', 'masa0797-4', 'beth0261-7', 'jord0001-158', 'jeru0237-8', 'huqo0001-19', 'beth0174-10', 'jord0001-179', 'jeru0237-17', 'bshe0024-66', 'hadi0001-14', 'mare0407-1', 'zoor0136-22', 'jord0001-282', 'jeru0237-22', 'jord0001-156', 'zoor0377-12', 'masa0484-9', 'zoor0245-7', 'jord0001-428', 'jord0001-521', 'jord0001-332', 'masa0466-3', 'caes0442-4', 'idum0301-4', 'gaza0111-12', 'zoor0262-7', 'jord0001-347', 'zoor0202-25', 'jord0001-142', 'jeru0237-24', 'zoor0028-13', 'zoor0334-19', 'jeru0490-3', 'jord0001-189', 'jord0001-232', 'rehn0001-14', 'jeru0117-1', 'zoor0145-7', 'jord0001-325', 'zoor0333-20', 'zoor0361-2', 'jord0001-62', 'beth0241-3', 'qumr0001-42', 'mare0430-1', 'jord0001-366', 'jeru0357-10', 'jord0001-127', 'jaff0017-3', 'hadi0001-12', 'jord0001-235', 'hamm0038-10', 'qumr0001-20', 'jord0001-281', 'zoor0226-22', 'arch0005-12', 'jeru0526-2', 'zoor0207-38', 'zoor0329-4', 'zoor0219-6', 'zoor0270-8', 'caes0074-3', 'jord0001-468', 'jord0001-86', 'caes0427-1', 'jord0001-37', 'jord0001-196', 'zoor0372-1', 'jord0001-461', 'zoor0037-14', 'jord0001-435', 'jord0001-186', 'jord0001-172', 'caes0126-3', 'qumr0001-3', 'idum0465-9', 'beth0276-4', 'zoor0372-13', 'zoor0377-25', 'jord0001-571', 'jord0001-407', 'hadi0001-13', 'jord0001-284', 'anri0001-5', 'zoor0377-14', 'rehn0001-6', 'jord0001-210', 'masa0039-3', 'elus0034-2', 'caes0038-1', 'jeru0369-5', 'susi0011-2', 'jord0001-457', 'hmti0004-19', 'jord0001-279', 'bshe0146-27', 'jord0001-25', 'jord0001-493', 'jeru0508-3', 'zoor0158-11', 'jeru0357-23', 'mare0180-7', 'zoor0368-10', 'zoor0337-1', 'hmti0005-12', 'zoor0067-19', 'hmti0004-17', 'masa0435-1', 'elus0009-19', 'jord0001-395', 'beth0259-1', 'beth0263-1', 'beth0261-3', 'surm0001-7', 'jeru0377-1', 'yavn0001-1', 'hmti0004-9', 'beth0246-6', 'zoor0385-4', 'masa0795-1', 'jord0001-134', 'zoor0366-15', 'jord0001-44', 'elal0011-1', 'jord0001-563', 'jord0001-268', 'jord0001-140', 'jord0001-417', 'fiqg0018-2', 'jord0001-477', 'zoor0262-34', 'hamm0025-6', 'jeru0305-1', 'qumr0001-16', 'jord0001-314', 'hadi0001-16', 'jord0001-252', 'masa0437-1', 'zoor0257-12', 'jord0001-39', 'sena0006-6', 'jord0001-107', 'jeru0490-2', 'jord0001-248', 'jord0001-152', 'zoor0247-2', 'masa0779-7', 'zoor0326-10', 'masa0547-3', 'zoor0035-2', 'jord0001-207', 'zoor0136-13', 'jord0001-116', 'knah0002-5', 'jord0001-312', 'zoor0115-23', 'zoor0346-24', 'zoor0099-21', 'zoor0115-9', 'qumr0001-43', 'jord0001-269', 'zoor0104-5', 'jord0001-183', 'jord0001-517', 'zoor0377-21', 'jord0001-154', 'sena0002-15', 'anri0001-4', 'jord0001-439', 'jord0001-91', 'kmer0001-4', 'mare0051-2', 'knah0002-6', 'jeru0237-13', 'jord0001-148', 'elal0018-15', 'masa0941-19', 'elus0006-8', 'rafi0005-4', 'jord0001-351', 'jeru0300-6', 'jord0001-555', 'jord0001-83', 'jeru0347-1', 'ashk0002-12', 'jeru0520-1', 'hmti0004-2', 'jeru0501-3', 'jeru0369-7', 'caes0313-1', 'jeru0464-1', 'beth0238-7', 'jeru0352-1', 'masa0037-2', 'zoor0328-4', 'jord0001-60', 'akld0019-1', 'jord0001-263', 'zoor0157-6', 'zoor0357-4', 'beth0246-5', 'caes0416-1', 'jord0001-201', 'jord0001-40', 'jord0001-240', 'sepp0012-2', 'jord0001-526', 'jord0001-535', 'jaff0041-5', 'caes0141-1', 'zoor0335-14', 'caes0519-2', 'qumr0001-34', 'masa0540-2', 'masa0484-6', 'caes0065-2', 'zoor0225-21', 'jeru0547-10', 'zoor0196-31', 'zoor0115-7', 'zoor0366-1', 'jord0001-194', 'caes0317-1', 'jord0001-149', 'jord0001-556', 'jeru0357-18', 'caes0344-4', 'jeru0359-1', 'jord0001-440', 'shep0001-16', 'qumr0001-40', 'jord0001-188', 'mare0429-1', 'zoor0323-13', 'jord0001-273', 'masa0484-3', 'idum0300-4', 'zoor0330-7', 'masa0779-3', 'jord0001-130', 'jord0001-38', 'zoor0165-1', 'zoor0331-3', 'jeru0237-14', 'masa0449-10', 'zoor0339-1', 'mare0181-3', 'anri0001-7', 'masa0393-2', 'caes0293-4', 'jord0001-219', 'beth0246-8', 'jord0001-198', 'jord0001-257', 'hmti0004-13', 'jord0001-564', 'zoor0327-4', 'caes0442-2', 'jord0001-197', 'jeru0370-2', 'masa0547-2', 'huqo0001-7', 'carm0002-9', 'zoor0375-2', 'zoor0393-3', 'jord0001-464', 'jord0001-72', 'zoor0375-4', 'qumr0001-29', 'hmti0004-16', 'caes0125-1', 'jord0001-328', 'huqo0001-16', 'zoor0028-14', 'kafr0011-21', 'jord0001-20', 'beth0248-11', 'jeru0357-21', 'zoor0329-10', 'hefz0001-300', 'gers0001-6', 'jord0001-118', 'zoor0219-24', 'jeru0513-1', 'zoor0215-16', 'jord0001-80', 'zoor0240-19', 'beth0248-12', 'jord0001-444', 'huqo0001-17', 'jord0001-51', 'jord0001-106', 'beth0248-9', 'qumr0001-18', 'mare0314-1', 'jeru0492-23', 'qumr0001-10', 'mare0181-7', 'zoor0165-2', 'beth0241-2', 'jord0001-110', 'jeru0319-1', 'jeru0370-3', 'zoor0370-18', 'zoor0243-20', 'zoor0332-17', 'jord0001-365', 'zoor0355-22', 'beth0246-9', 'jord0001-141', 'masa0039-2', 'beth0261-9', 'tibe0001-9', 'fiqg0014-1', 'zoor0333-11', 'jeru0196-3', 'zoor0270-7', 'jord0001-408', 'jeru0449-12', 'zoor0136-1', 'beth0246-12', 'huqo0001-8', 'masa0539-1', 'apol0100-4', 'hefz0001-63', 'zoor0377-23', 'zoor0330-22', 'jord0001-509', 'hmti0004-11', 'masa0484-1', 'dora0002-1', 'jeru0357-22', 'jord0001-7', 'jeru0300-7', 'jeru0237-26', 'rehn0001-11', 'beth0248-17', 'masa0462-1', 'zoor0319-7', 'hamm0049-114', 'zoor0067-17', 'jord0001-9', 'jeru0363-2', 'jord0001-191', 'jord0001-324', 'jeru0357-17', 'jeru0237-32', 'hmti0003-2', 'hamm0057-17', 'jaff0057-4', 'zoor0209-17', 'beth0236-3', 'jeru0237-5', 'kzaa0015-2', 'jord0001-87', 'jord0001-377', 'jeru0237-40', 'zoor0002-5', 'beth0239-14', 'jord0001-220', 'hefz0001-61', 'zoor0289-7', 'hadi0001-15', 'tqas0002-5', 'bshe0003-7', 'caes0216-3', 'zoor0338-10', 'jeru0357-13', 'jeru0237-42', 'zoor0245-25', 'jord0001-512', 'hmti0004-12', 'jaff0020-2', 'hept0001-6', 'zoor0355-27', 'huqo0001-14', 'jord0001-427', 'jord0001-452', 'hmti0005-8', 'jeru0357-12', 'jord0001-260', 'zoor0339-26', 'birs0005-8', 'zoor0199-4', 'jeru0511-2', 'hmti0004-15', 'tibe0001-4', 'beth0239-10', 'jeru0375-1', 'mare0217-4', 'zoor0197-15', 'zoor0372-8', 'jord0001-144', 'jord0001-265', 'akas0002-4', 'jord0001-411', 'butm0001-1', 'idum0485-6', 'jord0001-373', 'jord0001-29', 'jeru0492-18', 'zoor0319-4', 'hefz0001-139', 'jord0001-227', 'zoor0384-8', 'beth0272-1', 'evro0007-42', 'jord0001-290', 'jord0001-155', 'rehn0001-12', 'abur0001-8', 'jord0001-168', 'caes0332-4', 'jord0001-572', 'jeru0237-30', 'dora0002-5', 'zoor0369-14', 'jord0001-488', 'zoor0329-1', 'jord0001-274', 'jord0001-533', 'jeru0401-1', 'zoor0340-25', 'zoor0145-1', 'zoor0304-4', 'zoor0219-8', 'zoor0340-6', 'beth0261-4', 'dora0002-2', 'jord0001-111', 'anri0001-8', 'zoor0333-4', 'halu0001-1', 'beth0246-13', 'jord0001-367', 'mare0181-19', 'jeru0463-2', 'zoor0261-7', 'zoor0165-8', 'zoor0331-6', 'zoor0375-10', 'masa0468-1', 'beth0237-34', 'jord0001-69', 'jord0001-333', 'zoor0115-16', 'hmti0004-10', 'mare0011-7', 'zoor0317-22', 'jord0001-442', 'jord0001-223', 'zoor0329-12', 'beth0265-1', 'jord0001-543', 'jeru0492-22', 'jord0001-336', 'jord0001-530', 'zoor0349-1', 'jord0001-247', 'zoor0187-6', 'zoor0099-3', 'jeru0396-1', 'suhm0002-13', 'jord0001-490', 'jeru0357-7', 'masa0387-1', 'jeru0369-9', 'jord0001-388', 'ashk0006-2', 'zoor0348-6', 'jord0001-522', 'hmti0005-10', 'zoor0348-4', 'caes0333-1', 'zoor0377-18', 'khis0083-12', 'zoor0327-1', 'jeru0463-1', 'zoor0326-15', 'hmti0005-7', 'jord0001-542', 'zoor0346-23', 'zoor0243-19', 'zoor0320-2', 'masa0038-5', 'zoor0340-26', 'jord0001-383', 'zoor0370-20', 'qumr0001-32', 'jaff0062-1', 'elus0079-5', 'masa0605-1', 'beth0239-8', 'zoor0257-29', 'jeru0350-6', 'seph0100-2', 'ashk0002-25', 'jord0001-484', 'zoor0129-2', 'zoor0145-28', 'zoor0368-2', 'jent0006-5', 'jeru0492-17', 'odob0025-2', 'akas0002-9', 'zoor0116-3', 'caes0125-3', 'zoor0384-6', 'jord0001-433', 'fein0009-3', 'zoor0196-22', 'zoor0322-1', 'jord0001-463', 'beth0127-34', 'jord0001-138', 'jord0001-153', 'zoor0035-10', 'masa0595-2', 'zoor0377-6', 'zoor0199-3', 'caes0284-2', 'zoor0201-14', 'zoor0369-11', 'jord0001-299', 'jeru0425-6', 'jord0001-536', 'zoor0227-5', 'jord0001-456', 'masa0484-10', 'jord0001-476', 'caes0231-8', 'jord0001-108', 'jeru0485-1', 'masa0468-3', 'jord0001-185', 'caes0444-3', 'zoor0348-5', 'jord0001-278', 'masa0039-4', 'jord0001-397', 'zoor0005-3', 'zoor0367-2', 'carm0010-1', 'zoor0377-10', 'mare0188-3', 'jeru0319-2', 'hefz0001-58', 'caes0026-15', 'zoor0067-11', 'jeru0407-1', 'jord0001-48', 'jeru0430-1', 'zoor0324-1', 'zoor0361-9', 'jord0001-472', 'zoor0368-4', 'beth0248-13', 'beth0248-15', 'masa0484-11', 'jord0001-94', 'zoor0319-3', 'jord0001-465', 'birs0005-7', 'zoor0245-5', 'jord0001-287', 'jord0001-49', 'jeru0399-1', 'zoor0295-3', 'mger0150-3', 'jeru0449-13', 'jord0001-558', 'elal0018-14', 'jaff0034-7', 'jeru0237-41', 'qumr0001-8', 'qumr0002-3', 'bshe0027-5', 'jord0001-391', 'jeru0357-6', 'jeru0366-4', 'zoor0367-16', 'zoor0369-1', 'masa0388-1', 'jord0001-537', 'zoor0067-9', 'mare0011-5', 'caes0519-1', 'zoor0336-7', 'jeru0449-11', 'zoor0361-8', 'zoor0269-2', 'jeru0237-15', 'caes0327-3', 'jord0001-329', 'masa0038-1', 'hadi0001-1', 'jord0001-405', 'beth0246-3', 'jord0001-317', 'jord0001-128', 'zoor0115-22', 'natt0004-4', 'jeru0237-25', 'jeru0237-18', 'masa0599-2', 'caes0332-5', 'jeru0350-5', 'beth0161-5', 'jord0001-327', 'jord0001-164', 'jaff0065-7', 'beth0276-2', 'caes0375-2', 'jeru0357-9', 'jord0001-209', 'hefz0001-44', 'hmti0004-3', 'jeru0449-18', 'akas0002-5', 'mare0181-6', 'jeru0237-37', 'jord0001-562', 'beth0263-5', 'zoor0165-13', 'jord0001-394', 'jord0001-425', 'zoor0226-19', 'jeru0492-11', 'zoor0371-21', 'huqo0001-13', 'jord0001-82', 'jord0001-293', 'zoor0145-22', 'jord0001-43', 'jord0001-212', 'jeru0237-27', 'jeru0237-9', 'jord0001-101', 'zoor0099-1', 'jord0001-102', 'zoor0255-20', 'jord0001-500', 'hadi0001-11', 'hept0001-8', 'jord0001-157', 'zoor0375-1', 'zoor0040-1', 'jord0001-568', 'caes0302-1', 'masa0450-5', 'halu0001-2', 'evro0007-9', 'zoor0243-16', 'jaff0057-9', 'beth0237-33', 'huqo0001-11', 'jord0001-550', 'jord0001-89', 'masa0418-2', 'masa0826-5', 'gers0001-4', 'zoor0242-23', 'zoor0011-15', 'qumr0001-33', 'zoor0257-19', 'masa0469-1', 'jord0001-508', 'zoor0372-18', 'jord0001-565', 'zoor0350-1', 'zoor0214-13', 'zoor0243-13', 'beth0265-2', 'jord0001-234', 'jord0001-99', 'zoor0377-1', 'caes0321-1', 'zoor0371-4', 'jord0001-292', 'caes0282-2', 'zoor0377-5', 'jeru0492-27', 'jord0001-540', 'jord0001-495', 'jord0001-139', 'jeru0492-24', 'masa0459-1', 'zoor0328-3', 'jord0001-204', 'qumr0001-14', 'haif0044-8', 'zoor0242-29', 'zoor0330-21', 'jeru0369-3', 'zoor0182-1', 'zoor0104-8', 'beth0248-5', 'zoor0323-2', 'jord0001-150', 'zoor0335-20', 'jeru0237-16', 'zoor0067-16', 'kafr0011-6', 'zoor0335-11', 'beth0237-32', 'jord0001-16', 'caes0299-1', 'jeru0055-2', 'masa0039-5', 'zoor0011-14', 'zoor0067-14', 'tibe0001-7', 'zoor0389-4', 'zoor0201-3', 'caes0283-2', 'idum0301-3', 'rehn0001-9', 'jord0001-492', 'zoor0355-1', 'zoor0147-18', 'jord0001-215', 'zoor0035-11', 'jord0001-78', 'zoor0001-1', 'zoor0336-2', 'jord0001-475', 'zoor0348-7', 'zoor0199-17', 'dora0002-4', 'beth0174-11', 'qumr0001-23', 'mart0003-3', 'jord0001-499', 'zoor0326-16', 'beth0271-1', 'masa0540-1', 'jord0001-531', 'zoor0380-17', 'susi0007-5', 'qumr0001-35', 'jord0001-117', 'masa0445-1', 'hali0001-1', 'jeru0492-25', 'mare0181-4', 'mare0187-5', 'beth0239-11', 'jord0001-520', 'jord0001-238', 'masa0401-1', 'zoor0314-1', 'jord0001-229', 'beth0239-13', 'jaff0009-4', 'zoor0371-1', 'zoor0136-21', 'zoor0001-2', 'jord0001-511', 'rehn0001-13', 'jord0001-180', 'jent0006-2', 'caes0026-4', 'zoor0332-20', 'alji0002-3', 'jeru0354-2', 'zoor0355-19', 'caes0075-2', 'zoor0357-9', 'zoor0182-22', 'zoor0377-24', 'zoor0336-15', 'jeru0409-1', 'beth0261-10', 'jord0001-261', 'hmti0005-1', 'jord0001-414', 'jord0001-302', 'beth0246-4', 'zoor0373-2', 'jeru0501-1', 'jeru0375-2', 'jord0001-68', 'jord0001-166', 'elus0070-4', 'jord0001-362', 'bguv0102-5', 'jord0001-354', 'rehn0001-7', 'jord0001-33', 'jord0001-195', 'haif0044-14', 'jord0001-76', 'zoor0360-1', 'jord0001-534', 'zoor0369-3', 'elus0090-1', 'jord0001-34', 'zoor0325-12', 'zoor0331-21', 'jaff0019-2', 'mtab0002-2', 'zoor0330-2', 'jeru0528-1', 'jord0001-224', 'elus0047-1', 'elus0006-7', 'beth0245-6', 'zoor0286-1', 'jord0001-275', 'jord0001-285', 'jord0001-339', 'jord0001-544', 'jord0001-346', 'zoor0242-6', 'beth0261-1', 'jord0001-491', 'tibe0001-3', 'zoor0245-16', 'zoor0377-9', 'jeru0492-14', 'zoor0348-10', 'beth0239-9', 'jord0001-392', 'zoor0332-1', 'masa0589-2', 'jord0001-71', 'zoor0099-7', 'beth0276-1', 'kafr0011-14', 'jord0001-335', 'jord0001-264', 'zoor0336-1', 'jord0001-307', 'zoor0143-15', 'jord0001-103', 'masa0503-1', 'jord0001-448', 'kede0001-9', 'zoor0145-14', 'jord0001-256', 'odob0025-4', 'zoor0335-1', 'masa0935-1', 'hmti0003-1', 'zoor0356-21', 'jeru0237-2', 'fakh0003-4', 'zoor0326-1', 'zoor0368-13', 'baha0002-1', 'zoor0145-24', 'caes0231-7', 'odob0025-1', 'jord0001-165', 'jord0001-415', 'zoor0328-5', 'jord0001-518', 'evro0007-7', 'jeru0369-6', 'hept0001-12', 'zoor0351-5', 'haif0008-10', 'zoor0326-4', 'jeru0357-4', 'zoor0257-34', 'jord0001-159', 'jord0001-401', 'masa0486-1', 'jeru0357-15', 'jaff0052-14', 'zoor0028-1', 'hmti0004-5', 'beth0241-4', 'jord0001-372', 'jord0001-334', 'jord0001-389', 'zoor0322-3', 'hadi0001-8', 'caes0337-2', 'jent0006-4', 'zoor0178-4', 'jord0001-175', 'jord0001-63', 'masa0517-1', 'hmti0005-4', 'rehn0001-8', 'zoor0075-20', 'zoor0387-5', 'qumr0001-13', 'beth0261-2', 'zoor0269-1', 'jord0001-319', 'hadi0001-10', 'fakh0006-1', 'jord0001-217', 'shap0004-2', 'hmti0004-1', 'jeru0305-7', 'caes0440-1', 'caes0364-4', 'zoor0373-8', 'jord0001-462', 'jord0001-57', 'jord0001-403', 'rafi0012-3', 'jord0001-497', 'zoor0374-10', 'masa0932-6', 'hadi0001-6', 'zoor0340-16', 'zoor0351-3', 'beth0236-2', 'jord0001-541', 'zoor0333-14', 'zoor0239-18', 'knah0002-1', 'jord0001-246', 'zoor0393-4', 'zoor0367-3', 'anri0001-10', 'jeru0319-3', 'masa0037-1', 'zoor0368-1', 'beth0251-2', 'zoor0370-1', 'jeru0357-24', 'qumr0001-31', 'susi0009-8', 'idum0575-4', 'beth0251-3', 'qumr0001-21', 'masa0797-1', 'masa0452-6', 'caes0308-3', 'zoor0339-21', 'jord0001-120', 'beth0248-18', 'zoor0067-20', 'jord0001-271', 'mger0037-3', 'jord0001-528', 'beth0261-6', 'jord0001-123', 'qumr0001-24', 'qumr0002-5', 'jord0001-473', 'jeru0459-2', 'beth0261-13', 'zoor0377-7', 'jord0001-32', 'huqo0001-9', 'zoor0328-8', 'jeru0237-45', 'jeru0459-1', 'akko0011-1', 'beth0238-9', 'jord0001-2', 'jord0001-387', 'knah0002-9', 'hmti0005-11', 'zoor0011-10', 'zoor0370-7', 'jord0001-31', 'jord0001-380', 'masa0537-3', 'masa0442-1', 'zoor0380-21', 'jord0001-74', 'jeru0440-4', 'zoor0335-19', 'hmti0005-6', 'hmti0005-5', 'zoor0005-2', 'hmti0004-14', 'zoor0165-12', 'jord0001-67', 'zoor0330-1', 'jord0001-421', 'zoor0365-1', 'qumr0001-19', 'jeru0237-20', 'evro0007-43', 'mare0315-2', 'jord0001-239', 'qumr0001-17', 'jeru0509-1', 'zoor0116-16', 'qumr0002-7', 'caes0158-54', 'jeru0347-2', 'jord0001-296', 'masa0942e-2', 'jord0001-416', 'zoor0420-11', 'jord0001-338', 'jord0001-12', 'jord0001-59', 'zoor0115-2', 'masa0929-2', 'caes0671-3', 'jord0001-548', 'jord0001-280', 'jord0001-527', 'idum0671-6', 'jord0001-214', 'jord0001-423', 'jord0001-406', 'huqo0001-10', 'anri0001-6', 'jord0001-360', 'kiss0003-11', 'caes0268-4', 'mare0457-1', 'hadi0001-3', 'jeru0449-17', 'caes0181-4', 'qumr0002-1', 'masa0038-7', 'jord0001-441', 'jord0001-174', 'jord0001-370', 'jeru0449-16', 'zoor0428-3', 'jord0001-549', 'jord0001-438', 'zoor0257-25', 'bshe0027-1', 'zoor0369-2', 'zoor0334-17', 'qumr0001-38', 'zoor0352-4', 'jeru0379-4', 'beth0276-3', 'jeru0357-11', 'zoor0338-2', 'zoor0373-3', 'jord0001-147', 'jord0001-6', 'fein0001-2', 'elus0009-16', 'masa0941-7', 'jord0001-213', 'zoor0245-24', 'zoor0104-24', 'caes0330-2', 'zoor0328-2', 'caes0372-3', 'zoor0209-18', 'jord0001-100', 'jord0001-486', 'jord0001-249', 'sena0001-8', 'jord0001-516', 'zoor0339-27', 'jeru0379-3', 'jeru0349-2', 'zoor0348-8', 'qumr0002-6', 'jord0001-501', 'zoor0371-23', 'jeru0237-29', 'jord0001-258', 'mare0445-1', 'jeru0509-2', 'zoor0037-17', 'jord0001-56', 'jeru0196-2', 'jord0001-112', 'jord0001-412', 'zoor0225-17', 'zoor0187-9', 'jord0001-510', 'caes0427-9', 'zoor0207-27', 'qumr0001-37', 'zoor0323-1', 'zoor0209-24', 'jord0001-371', 'zoor0197-25', 'tibe0001-5', 'hmti0004-6', 'zoor0364-1', 'jord0001-266', 'qumr0001-39', 'jeru0237-11', 'masa0452-7', 'jord0001-289', 'masa0038-6', 'masa0589-1', 'masa0794-3', 'masa0484-2', 'jeru0419-4', 'jord0001-277', 'hadi0001-4', 'qumr0001-7', 'zoor0377-11', 'jeru0237-19', 'masa0467-1', 'zoor0338-21', 'anri0001-1', 'mare0466-1', 'hmti0004-7', 'jord0001-560', 'jord0001-228', 'jeru0370-4', 'caes0132-11', 'huqo0001-6', 'jent0004-1', 'zoor0373-1', 'zoor0101-8', 'dora0002-3', 'jord0001-454', 'squf0003-10', 'jeru0358-2', 'masa0484-4', 'jeru0492-16', 'rehn0001-1', 'zoor0364-3', 'susi0012-3', 'idum0605-3', 'zoor0352-1', 'jord0001-348', 'beth0263-3', 'zoor0319-5', 'caes0418-1', 'zoor0129-8', 'gers0001-2', 'fein0004-2', 'zoor0187-7', 'jord0001-466', 'zoor0182-14', 'jord0001-344', 'jeru0344-1', 'jeru0350-7', 'jord0001-374', 'zoor0367-1', 'natt0004-2', 'qumr0001-28', 'jeru0526-1', 'zoor0209-6', 'qumr0001-41', 'beth0246-11', 'masa0473-2', 'beth0272-2', 'rehn0001-2', 'jeru0422-1', 'zoor0075-1', 'zoor0355-4', 'beth0071-3', 'zoor0257-6', 'jeru0305-5', 'zoor0351-1', 'jeru0237-46', 'zoor0334-18', 'jord0001-432', 'jord0001-422', 'balf0001-4', 'zoor0262-33', 'zoor0219-17', 'zoor0389-1', 'jeru0303-20', 'zoor0067-10', 'jord0001-65', 'jord0001-356', 'mare0227-135', 'caes0293-5', 'odob0025-3', 'masa0481-4', 'jeru0305-4', 'jord0001-81', 'knah0002-7', 'jeru0346-1', 'zoor0337-6', 'akld0024-3', 'zoor0099-23', 'jeru0237-28', 'jord0001-162', 'masa0429-2', 'jord0001-119', 'masa0450-10', 'jeru0305-2', 'khis0083-5', 'jord0001-443', 'zoor0327-6', 'hefz0001-59', 'masa0481-5', 'zoor0242-18', 'jord0001-519', 'mare0438-2', 'jord0001-26', 'elus0072-3', 'beth0261-12', 'hamm0057-1', 'jord0001-114', 'masa0479-3', 'jord0001-505', 'gers0001-5', 'jeru0237-38', 'jent0006-3', 'jaff0005-4', 'zoor0331-19', 'jord0001-479', 'jord0001-47', 'jeru0438-1', 'qumr0001-26', 'masa0696-2', 'fein0001-12', 'zoor0184-14', 'zoor0291-13', 'jord0001-400', 'haif0020-4', 'hmti0003-3', 'hamm0049-89', 'hero0004-3', 'hadi0001-5', 'rehn0001-15', 'zoor0207-36', 'fakh0006-2', 'zoor0372-11', 'zoor0334-25', 'jeru0369-4', 'jord0001-410', 'mare0187-3', 'sena0002-7', 'masa0472-2', 'jeru0486-4', 'masa0941-15', 'zoor0327-9', 'seph0100-1', 'zoor0067-6', 'qumr0001-12', 'zoor0116-10', 'jord0001-222', 'zoor0201-22', 'jord0001-173', 'caes0323-1', 'jeru0355-1', 'zoor0402-12', 'jeru0357-20', 'evro0007-19', 'beth0248-16', 'jord0001-525', 'caes0204-5', 'caes0156-9', 'knah0002-3', 'jord0001-506', 'jeru0237-34', 'zoor0356-14', 'jeru0350-1', 'suhm0001-37', 'zoor0243-4', 'zoor0337-4', 'jord0001-64', 'zoor0242-19', 'hadi0001-7', 'zoor0242-30', 'caes0521-3', 'zoor0239-8', 'jeru0492-19', 'masa0038-2', 'zoor0196-32', 'zoor0338-1', 'khis0072-3', 'masa0518-1', 'masa0484-8', 'jeru0492-20', 'zoor0336-19', 'zoor0028-25', 'jord0001-352', 'hmti0005-9', 'jord0001-504', 'jaff0041-3', 'jord0001-358', 'jord0001-529', 'tibe0004-19', 'zoor0367-17', 'jord0001-206', 'jeru0349-4', 'jord0001-132', 'jeru0490-1']\n"
     ]
    }
   ],
   "source": [
    "orphanedWordIDs = []\n",
    "\n",
    "for lang in allWordOccurr:\n",
    "    for i in allWordOccurr[lang]:\n",
    "        if i not in validatedWordIDs:\n",
    "            orphanedWordIDs.append(i)\n",
    "\n",
    "orphanedWordIDs = list(set(orphanedWordIDs))\n",
    "        \n",
    "print(len(orphanedWordIDs))\n",
    "print(orphanedWordIDs)"
   ]
  },
  {
   "cell_type": "markdown",
   "metadata": {},
   "source": [
    "Let's see if we can condense the validated CSV down to eliminate multiple entries before trying to match the orphaned wordIDs back to the spreadsheet."
   ]
  },
  {
   "cell_type": "markdown",
   "metadata": {},
   "source": [
    "# For duplicates, select option with most occurrences"
   ]
  },
  {
   "cell_type": "code",
   "execution_count": 24,
   "metadata": {},
   "outputs": [
    {
     "name": "stdout",
     "output_type": "stream",
     "text": [
      "[[10, ['ἀθανατος', 'zoor0244-29, zoor0208-21, zoor0207-35, zoor0147-22, zoor0304-14, zoor0233-29, zoor0290-9, zoor0290-6, zoor0260-30, zoor0217-22, zoor0248-27, zoor0146-17', 'ἀθανατός', 'ADJ', 'w-ἀθανατος', 'Case=Nom|Degree=Pos|Gender=Masc|Number=Sing', '', '', '', '', '', '', '', '', '', '', '', '', '', '', '', '', '', '', '', '', '', '', '', '', '', '', '', '', 'y', 'immortality', '', '', '']], [2, ['ἀθἀνατος', 'zoor0147-22, zoor0146-17', 'ἀθανατός', 'ADJ', 'w-ἀθἀνατος', 'Case=Nom|Degree=Pos|Gender=Masc|Number=Sing', '', '', '', '', '', '', '', '', '', '', '', '', '', '', '', '', '', '', '', '', '', '', '', '', '', '', '', '', 'y', 'immortal', '', '', '']]]\n",
      "[[10, ['Ἀλφίου', 'zoor0172-3, zoor0002-3, zoor0100-3, zoor0026-3, zoor0056-3, zoor0287-3, zoor0341-7, birs0003-3, zoor0248-8, zoor0050-3, zoor0170-3', 'Ἄλφιος', 'PROPN', 'w-Ἀλφίου', 'Case=Gen|Gender=Masc|Number=Sing', '', '', 'y', 'm', 'Jewish', 'Alphios', 'http://clas-lgpn2.classics.ox.ac.uk/name/%E1%BF%8E%CE%91%CE%BB%CF%86%CE%B9%CE%BF%CF%82', '', '', '', '', '', '', '', '', '', '', '', '', '', '', '', '', '', '', '', '', '', '', '', '', '', '']], [1, ['Ἄλφιου', 'birs0003-3', 'Ἄλφιος', 'PROPN', 'w-Ἄλφιου', 'Case=Gen|Gender=Masc|Number=Sing', '', '', 'y', 'm', 'Christian', 'Alphios', '', '', '', '', '', '', '', '', '', '', '', '', '', '', '', '', '', '', '', '', '', '', '', '', '', '', '']]]\n",
      "[[1, ['Ἁνανίας', 'nkid0001-5, jeru0228-1', 'Ἁνανίας', 'PROPN', 'w-Ἁνανίας', 'Case=Nom|Gender=Masc|Number=Sing', '', '', 'y', 'm', 'Jewish', 'Hananiah', 'http://clas-lgpn2.classics.ox.ac.uk/name/%E1%BC%88%CE%BD%CE%B1%CE%BD%CE%AF%CE%B1%CF%82', '', '', '', '', '', '', '', '', '', '', '', '', '', '', '', '', '', '', '', '', '', '', '', '', '', '']], [1, ['Ἀνανίας', 'jeru0228-1', 'Ἁνανίας', 'PROPN', 'w-Ἀνανίας', 'Case=Nom|Gender=Masc|Number=Sing', '', '', 'y\\tm\\tJewish\\tHananiah', '', '', '', '', '', '', '', '', '', '', '', '', '', '', '', '', '', '', '', '', '', '', '', '', '', '', '', '', '', '']]]\n"
     ]
    }
   ],
   "source": [
    "validatedCSVs2 = {}\n",
    "\n",
    "for lang in validatedCSVs:\n",
    "    seen = {}\n",
    "\n",
    "    for row in validatedCSVs[lang]:\n",
    "        # normalize data\n",
    "        word = row[0]\n",
    "        lemma = row[2]\n",
    "\n",
    "        noAccent = \"\".join([unicodedata.normalize(\"NFD\", ch)[0].lower() for ch in word])\n",
    "        newData = \" | \".join([noAccent, lemma, row[3].strip(), row[5].strip()])\n",
    "        if newData not in seen:\n",
    "            seen[newData] = {}\n",
    "        if word not in seen[newData]:\n",
    "            seen[newData][word] = []\n",
    "\n",
    "        seen[newData][word].append(row)\n",
    "\n",
    "    # build new CSV\n",
    "    validatedCSV2 = []\n",
    "    for noAccent in seen:\n",
    "        multipleBool = False\n",
    "        multipleCount = 0\n",
    "\n",
    "        selection_options = []\n",
    "\n",
    "        for wordform in seen[noAccent]:\n",
    "            if len(seen[noAccent][wordform]) > 1:\n",
    "                multipleBool = True\n",
    "                print(seen[noAccent][wordform])\n",
    "                print('')\n",
    "                # This should be false, per current dictionary construction\n",
    "            for i in seen[noAccent][wordform]:\n",
    "                multipleCount+=1\n",
    "        if len(seen[noAccent]) > 1:\n",
    "            multipleBool = True\n",
    "\n",
    "        # Handle the easy case: only one option\n",
    "        if multipleBool == False:\n",
    "            for wordform in seen[noAccent]:\n",
    "                for row in seen[noAccent][wordform]:\n",
    "    #                 print(row)\n",
    "                    validatedCSV2.append(row)\n",
    "\n",
    "        elif multipleBool == True:\n",
    "    #         print(seen[noAccent])\n",
    "    #         print('\\n')\n",
    "\n",
    "            for wordform in seen[noAccent]:\n",
    "                wordform_count = len(seen[noAccent][wordform][0][1].split(', '))\n",
    "                # Don't want to select option with multiple accents, so\n",
    "                # set its count to zero\n",
    "                if count_accents(wordform) > 1:\n",
    "                    wordform_count = 0\n",
    "\n",
    "                row = seen[noAccent][wordform][0]\n",
    "                selection_options.append([wordform_count, row])\n",
    "\n",
    "            selection_options = sorted(selection_options, reverse=True)\n",
    "            keep = selection_options[0][1]\n",
    "            keepOccurr = keep[1]\n",
    "\n",
    "            # Condense other occurrences\n",
    "            otherOccurr = \" \".join([pair[1][1] for pair in selection_options[1:]])\n",
    "            allOccurr = \", \".join(get_occur_list(f\"{keepOccurr} {otherOccurr}\"))\n",
    "            keep[1] = allOccurr\n",
    "    #         print(selection_options)\n",
    "    #         print('')\n",
    "            if selection_options[0][1][6:] != selection_options[1][1][6:]:\n",
    "                print(selection_options)\n",
    "\n",
    "            validatedCSV2.append(keep)\n",
    "    \n",
    "    validatedCSVs2[lang] = validatedCSV2"
   ]
  },
  {
   "cell_type": "markdown",
   "metadata": {},
   "source": [
    "# Re-matching some of the orphaned wordIDs\n",
    "\n",
    "If there is only one possible match for a wordID in the new validated CSV, then it can be added back in."
   ]
  },
  {
   "cell_type": "code",
   "execution_count": 25,
   "metadata": {
    "scrolled": true
   },
   "outputs": [
    {
     "name": "stdout",
     "output_type": "stream",
     "text": [
      "NOT IN XML:\n",
      " 1154 wordIDs.\n",
      "\n",
      "NO MATCHES:\n",
      " ['akld0019-1', 'akld0024-3', 'apol0100-4', 'aris0001-3', 'balf0001-2', 'balf0001-4', 'beth0127-34', 'beth0174-10', 'beth0174-11', 'beth0178-2', 'beth0195-1', 'beth0236-2', 'beth0237-32', 'beth0237-33', 'beth0237-34', 'beth0238-7', 'beth0238-8', 'beth0239-10', 'beth0239-11', 'beth0239-12', 'beth0239-13', 'beth0239-8', 'beth0239-9', 'beth0246-10', 'beth0246-11', 'beth0246-12', 'beth0246-2', 'beth0246-3', 'beth0246-4', 'beth0246-5', 'beth0246-6', 'beth0246-7', 'beth0246-8', 'beth0246-9', 'beth0248-10', 'beth0248-11', 'beth0248-12', 'beth0248-13', 'beth0248-14', 'beth0248-15', 'beth0248-16', 'beth0248-17', 'beth0248-3', 'beth0248-4', 'beth0248-5', 'beth0248-6', 'beth0248-7', 'beth0248-8', 'beth0248-9', 'beth0251-1', 'beth0251-2', 'beth0261-1', 'beth0261-2', 'beth0261-3', 'beth0261-4', 'beth0261-5', 'beth0263-2', 'beth0265-1', 'beth0266-1', 'beth0271-1', 'beth0271-2', 'beth0272-1', 'beth0276-1', 'bguv0102-5', 'birs0008-8', 'bshe0003-7', 'bshe0024-66', 'bshe0024-73', 'bshe0027-1', 'bshe0101-3', 'bshe0101-4', 'bshe0131-1', 'bshe0146-27', 'caes0065-2', 'caes0158-54', 'caes0204-5', 'caes0231-8', 'caes0250-3', 'caes0330-2', 'caes0418-1', 'caes0440-1', 'caes0519-1', 'carm0010-1', 'fiqg0018-2', 'hadi0001-1', 'hamm0002-11', 'hamm0038-10', 'hamm0049-13', 'hamm0049-89', 'hamm0057-17', 'hefz0001-300', 'huqo0001-10', 'huqo0001-11', 'huqo0001-12', 'huqo0001-13', 'huqo0001-14', 'huqo0001-6', 'huqo0001-7', 'huqo0001-8', 'huqo0001-9', 'idum0169-10', 'idum0169-4', 'idum0300-4', 'idum0301-3', 'idum0301-4', 'idum0303-3', 'idum0465-9', 'idum0485-6', 'idum0575-4', 'idum0605-3', 'idum0671-6', 'jaff0041-3', 'jaff0057-6', 'jaff0057-7', 'jeru0055-2', 'jeru0300-6', 'jeru0300-7', 'jeru0300-9', 'jeru0303-12', 'jeru0303-20', 'jeru0319-1', 'jeru0319-2', 'jeru0350-6', 'jeru0354-2', 'jeru0355-1', 'jeru0357-11', 'jeru0357-12', 'jeru0357-13', 'jeru0357-14', 'jeru0357-15', 'jeru0357-17', 'jeru0357-18', 'jeru0357-19', 'jeru0357-20', 'jeru0357-21', 'jeru0357-23', 'jeru0357-4', 'jeru0357-6', 'jeru0357-7', 'jeru0357-8', 'jeru0357-9', 'jeru0369-3', 'jeru0369-4', 'jeru0369-5', 'jeru0369-7', 'jeru0369-9', 'jeru0370-3', 'jeru0370-4', 'jeru0375-1', 'jeru0399-1', 'jeru0407-1', 'jeru0449-11', 'jeru0449-12', 'jeru0449-13', 'jeru0449-14', 'jeru0449-15', 'jeru0449-16', 'jeru0449-17', 'jeru0449-18', 'jeru0459-1', 'jeru0464-1', 'jeru0485-1', 'jeru0490-2', 'jeru0492-10', 'jeru0492-11', 'jeru0492-12', 'jeru0492-13', 'jeru0492-14', 'jeru0492-15', 'jeru0492-16', 'jeru0492-17', 'jeru0492-18', 'jeru0492-19', 'jeru0492-20', 'jeru0492-21', 'jeru0492-22', 'jeru0492-23', 'jeru0492-24', 'jeru0492-25', 'jeru0492-26', 'jeru0492-27', 'jeru0492-28', 'jeru0492-29', 'jeru0492-8', 'jeru0501-1', 'jeru0501-2', 'jeru0526-1', 'jeru0526-2', 'jeru0528-1', 'jeru0547-10', 'jord0001-100', 'jord0001-101', 'jord0001-102', 'jord0001-103', 'jord0001-104', 'jord0001-106', 'jord0001-107', 'jord0001-108', 'jord0001-109', 'jord0001-110', 'jord0001-111', 'jord0001-112', 'jord0001-114', 'jord0001-115', 'jord0001-116', 'jord0001-117', 'jord0001-118', 'jord0001-119', 'jord0001-120', 'jord0001-122', 'jord0001-123', 'jord0001-124', 'jord0001-125', 'jord0001-126', 'jord0001-127', 'jord0001-128', 'jord0001-130', 'jord0001-131', 'jord0001-132', 'jord0001-133', 'jord0001-134', 'jord0001-135', 'jord0001-136', 'jord0001-138', 'jord0001-139', 'jord0001-140', 'jord0001-141', 'jord0001-142', 'jord0001-144', 'jord0001-146', 'jord0001-147', 'jord0001-148', 'jord0001-149', 'jord0001-15', 'jord0001-150', 'jord0001-153', 'jord0001-155', 'jord0001-156', 'jord0001-157', 'jord0001-158', 'jord0001-159', 'jord0001-16', 'jord0001-161', 'jord0001-162', 'jord0001-163', 'jord0001-164', 'jord0001-165', 'jord0001-166', 'jord0001-167', 'jord0001-168', 'jord0001-170', 'jord0001-171', 'jord0001-172', 'jord0001-173', 'jord0001-174', 'jord0001-175', 'jord0001-176', 'jord0001-178', 'jord0001-179', 'jord0001-180', 'jord0001-185', 'jord0001-186', 'jord0001-187', 'jord0001-188', 'jord0001-189', 'jord0001-190', 'jord0001-198', 'jord0001-199', 'jord0001-201', 'jord0001-202', 'jord0001-203', 'jord0001-204', 'jord0001-205', 'jord0001-206', 'jord0001-207', 'jord0001-209', 'jord0001-210', 'jord0001-211', 'jord0001-212', 'jord0001-215', 'jord0001-219', 'jord0001-220', 'jord0001-221', 'jord0001-222', 'jord0001-228', 'jord0001-229', 'jord0001-232', 'jord0001-233', 'jord0001-238', 'jord0001-245', 'jord0001-247', 'jord0001-248', 'jord0001-249', 'jord0001-252', 'jord0001-253', 'jord0001-257', 'jord0001-258', 'jord0001-261', 'jord0001-263', 'jord0001-264', 'jord0001-265', 'jord0001-268', 'jord0001-269', 'jord0001-27', 'jord0001-271', 'jord0001-272', 'jord0001-273', 'jord0001-274', 'jord0001-275', 'jord0001-277', 'jord0001-278', 'jord0001-279', 'jord0001-280', 'jord0001-281', 'jord0001-282', 'jord0001-288', 'jord0001-289', 'jord0001-290', 'jord0001-296', 'jord0001-300', 'jord0001-305', 'jord0001-308', 'jord0001-311', 'jord0001-314', 'jord0001-316', 'jord0001-317', 'jord0001-318', 'jord0001-319', 'jord0001-320', 'jord0001-322', 'jord0001-324', 'jord0001-325', 'jord0001-327', 'jord0001-328', 'jord0001-329', 'jord0001-330', 'jord0001-332', 'jord0001-333', 'jord0001-334', 'jord0001-335', 'jord0001-336', 'jord0001-338', 'jord0001-341', 'jord0001-342', 'jord0001-343', 'jord0001-344', 'jord0001-346', 'jord0001-347', 'jord0001-354', 'jord0001-356', 'jord0001-357', 'jord0001-358', 'jord0001-36', 'jord0001-360', 'jord0001-361', 'jord0001-362', 'jord0001-364', 'jord0001-365', 'jord0001-366', 'jord0001-367', 'jord0001-368', 'jord0001-37', 'jord0001-371', 'jord0001-372', 'jord0001-373', 'jord0001-374', 'jord0001-375', 'jord0001-377', 'jord0001-378', 'jord0001-379', 'jord0001-38', 'jord0001-380', 'jord0001-382', 'jord0001-383', 'jord0001-385', 'jord0001-387', 'jord0001-388', 'jord0001-39', 'jord0001-40', 'jord0001-401', 'jord0001-403', 'jord0001-404', 'jord0001-406', 'jord0001-407', 'jord0001-410', 'jord0001-412', 'jord0001-413', 'jord0001-416', 'jord0001-417', 'jord0001-419', 'jord0001-42', 'jord0001-420', 'jord0001-421', 'jord0001-422', 'jord0001-427', 'jord0001-430', 'jord0001-431', 'jord0001-432', 'jord0001-433', 'jord0001-434', 'jord0001-435', 'jord0001-436', 'jord0001-438', 'jord0001-439', 'jord0001-44', 'jord0001-440', 'jord0001-446', 'jord0001-45', 'jord0001-47', 'jord0001-48', 'jord0001-49', 'jord0001-50', 'jord0001-51', 'jord0001-52', 'jord0001-53', 'jord0001-55', 'jord0001-56', 'jord0001-57', 'jord0001-58', 'jord0001-6', 'jord0001-60', 'jord0001-63', 'jord0001-64', 'jord0001-65', 'jord0001-66', 'jord0001-67', 'jord0001-68', 'jord0001-69', 'jord0001-7', 'jord0001-71', 'jord0001-72', 'jord0001-73', 'jord0001-74', 'jord0001-75', 'jord0001-76', 'jord0001-78', 'jord0001-79', 'jord0001-80', 'jord0001-81', 'jord0001-82', 'jord0001-83', 'jord0001-84', 'jord0001-86', 'jord0001-87', 'jord0001-90', 'jord0001-91', 'jord0001-92', 'jord0001-93', 'jord0001-94', 'jord0001-95', 'jord0001-97', 'jord0001-98', 'jord0001-99', 'kafr0011-14', 'maay0001-15', 'mare0051-2', 'mare0136-64', 'mare0188-3', 'mare0227-131', 'mare0227-135', 'mare0228-8', 'mare0314-1', 'mare0315-2', 'masa0401-1', 'masa0401-2', 'masa0418-1', 'masa0429-1', 'masa0429-2', 'masa0430-1', 'masa0435-1', 'masa0437-1', 'masa0452-5', 'masa0452-6', 'masa0452-7', 'masa0462-1', 'masa0466-3', 'masa0467-1', 'masa0468-1', 'masa0468-3', 'masa0469-1', 'masa0472-2', 'masa0484-1', 'masa0485-1', 'masa0486-1', 'masa0503-1', 'masa0537-2', 'masa0539-1', 'masa0540-1', 'masa0540-2', 'masa0547-2', 'masa0549-1', 'masa0779-7', 'masa0795-1', 'masa0797-1', 'masa0941-19', 'mger0150-3', 'natt0007-2', 'odob0025-1', 'odob0025-2', 'odob0025-3', 'odob0025-4', 'qumr0001-10', 'qumr0001-12', 'qumr0001-13', 'qumr0001-14', 'qumr0001-15', 'qumr0001-16', 'qumr0001-17', 'qumr0001-18', 'qumr0001-19', 'qumr0001-21', 'qumr0001-22', 'qumr0001-23', 'qumr0001-24', 'qumr0001-26', 'qumr0001-27', 'qumr0001-28', 'qumr0001-29', 'qumr0001-34', 'qumr0001-35', 'qumr0001-36', 'qumr0001-37', 'qumr0001-38', 'qumr0001-4', 'qumr0001-5', 'qumr0001-7', 'qumr0001-8', 'qumr0002-5', 'qumr0002-6', 'qumr0002-7', 'sena0001-8', 'sena0002-15', 'sena0002-7', 'tibe0001-3', 'tibe0001-4', 'tibe0001-5', 'tibe0001-6', 'tibe0001-7', 'tibe0001-8', 'tibe0001-9', 'tibe0004-19', 'tibe0005-4', 'tqas0002-5', 'zoor0002-5', 'zoor0087-6', 'zoor0145-7', 'zoor0147-18', 'zoor0157-6', 'zoor0158-11', 'zoor0202-17', 'zoor0202-21', 'zoor0216-1', 'zoor0221-17', 'zoor0225-17', 'zoor0225-21', 'zoor0227-5', 'zoor0239-8', 'zoor0247-2', 'zoor0255-8', 'zoor0291-13', 'zoor0292-10', 'zoor0304-4', 'zoor0314-1', 'zoor0317-22', 'zoor0331-12', 'zoor0356-21', 'zoor0356-22', 'zoor0380-17', 'zoor0402-12', 'zoor0420-11', 'zoor0427-28', 'zoor0428-3', 'zoor0433-9']\n",
      "\n",
      "ONE MATCH:\n",
      " ['akld0019-1', 'akld0024-3', 'ashk0002-7', 'ashk0006-2', 'baha0002-1', 'beth0174-10', 'beth0174-11', 'beth0195-1', 'beth0236-2', 'beth0237-33', 'beth0237-34', 'beth0238-7', 'beth0238-8', 'beth0239-10', 'beth0239-11', 'beth0239-12', 'beth0239-13', 'beth0239-9', 'beth0246-10', 'beth0246-11', 'beth0246-12', 'beth0246-2', 'beth0246-3', 'beth0246-4', 'beth0246-5', 'beth0246-6', 'beth0246-7', 'beth0246-8', 'beth0246-9', 'beth0248-10', 'beth0248-11', 'beth0248-12', 'beth0248-13', 'beth0248-14', 'beth0248-15', 'beth0248-16', 'beth0248-17', 'beth0248-3', 'beth0248-4', 'beth0248-5', 'beth0248-6', 'beth0248-7', 'beth0248-8', 'beth0248-9', 'beth0251-2', 'beth0261-1', 'beth0261-2', 'beth0261-3', 'beth0261-4', 'beth0261-5', 'beth0263-2', 'beth0265-1', 'beth0266-1', 'beth0271-1', 'beth0271-2', 'beth0276-1', 'birs0005-6', 'bshe0101-4', 'bshe0131-1', 'bshe0146-27', 'caes0125-1', 'caes0125-3', 'caes0231-8', 'caes0250-3', 'caes0330-2', 'caes0440-1', 'caes0442-1', 'caes0442-2', 'fein0004-2', 'hadi0001-12', 'hadi0001-13', 'hadi0001-14', 'hadi0001-6', 'hadi0001-7', 'hamm0049-73', 'hamm0057-17', 'huqo0001-10', 'huqo0001-11', 'huqo0001-13', 'huqo0001-14', 'huqo0001-6', 'huqo0001-7', 'huqo0001-8', 'huqo0001-9', 'idum0169-10', 'idum0169-4', 'idum0300-4', 'idum0301-3', 'idum0301-4', 'idum0303-3', 'idum0485-6', 'idum0671-6', 'jaff0041-5', 'jaff0052-14', 'jaff0057-7', 'jeru0055-2', 'jeru0300-6', 'jeru0303-12', 'jeru0319-1', 'jeru0319-2', 'jeru0354-2', 'jeru0355-1', 'jeru0357-11', 'jeru0357-12', 'jeru0357-13', 'jeru0357-14', 'jeru0357-15', 'jeru0357-17', 'jeru0357-18', 'jeru0357-19', 'jeru0357-20', 'jeru0357-21', 'jeru0357-23', 'jeru0357-6', 'jeru0357-7', 'jeru0357-8', 'jeru0357-9', 'jeru0369-3', 'jeru0369-4', 'jeru0369-5', 'jeru0369-7', 'jeru0369-9', 'jeru0370-3', 'jeru0370-4', 'jeru0375-1', 'jeru0399-1', 'jeru0449-12', 'jeru0449-13', 'jeru0449-14', 'jeru0449-15', 'jeru0449-16', 'jeru0449-17', 'jeru0449-18', 'jeru0464-1', 'jeru0485-1', 'jeru0490-2', 'jeru0492-11', 'jeru0492-12', 'jeru0492-13', 'jeru0492-14', 'jeru0492-15', 'jeru0492-16', 'jeru0492-17', 'jeru0492-18', 'jeru0492-19', 'jeru0492-20', 'jeru0492-21', 'jeru0492-22', 'jeru0492-23', 'jeru0492-24', 'jeru0492-25', 'jeru0492-26', 'jeru0492-27', 'jeru0492-28', 'jeru0492-29', 'jeru0501-2', 'jeru0526-1', 'jeru0528-1', 'jeru0547-10', 'jord0001-100', 'jord0001-101', 'jord0001-102', 'jord0001-103', 'jord0001-104', 'jord0001-106', 'jord0001-107', 'jord0001-108', 'jord0001-109', 'jord0001-110', 'jord0001-111', 'jord0001-112', 'jord0001-114', 'jord0001-115', 'jord0001-116', 'jord0001-117', 'jord0001-118', 'jord0001-119', 'jord0001-120', 'jord0001-122', 'jord0001-123', 'jord0001-124', 'jord0001-125', 'jord0001-127', 'jord0001-128', 'jord0001-130', 'jord0001-131', 'jord0001-132', 'jord0001-133', 'jord0001-134', 'jord0001-135', 'jord0001-136', 'jord0001-138', 'jord0001-139', 'jord0001-140', 'jord0001-141', 'jord0001-142', 'jord0001-144', 'jord0001-146', 'jord0001-147', 'jord0001-148', 'jord0001-149', 'jord0001-15', 'jord0001-150', 'jord0001-153', 'jord0001-155', 'jord0001-156', 'jord0001-157', 'jord0001-158', 'jord0001-159', 'jord0001-16', 'jord0001-161', 'jord0001-162', 'jord0001-163', 'jord0001-164', 'jord0001-165', 'jord0001-166', 'jord0001-167', 'jord0001-168', 'jord0001-170', 'jord0001-171', 'jord0001-172', 'jord0001-173', 'jord0001-174', 'jord0001-175', 'jord0001-176', 'jord0001-178', 'jord0001-179', 'jord0001-180', 'jord0001-185', 'jord0001-186', 'jord0001-187', 'jord0001-188', 'jord0001-189', 'jord0001-190', 'jord0001-198', 'jord0001-199', 'jord0001-201', 'jord0001-202', 'jord0001-203', 'jord0001-204', 'jord0001-205', 'jord0001-206', 'jord0001-207', 'jord0001-209', 'jord0001-210', 'jord0001-211', 'jord0001-212', 'jord0001-215', 'jord0001-219', 'jord0001-220', 'jord0001-221', 'jord0001-222', 'jord0001-228', 'jord0001-229', 'jord0001-232', 'jord0001-233', 'jord0001-238', 'jord0001-248', 'jord0001-249', 'jord0001-252', 'jord0001-257', 'jord0001-258', 'jord0001-261', 'jord0001-263', 'jord0001-264', 'jord0001-265', 'jord0001-268', 'jord0001-269', 'jord0001-27', 'jord0001-271', 'jord0001-272', 'jord0001-273', 'jord0001-274', 'jord0001-275', 'jord0001-277', 'jord0001-278', 'jord0001-279', 'jord0001-280', 'jord0001-281', 'jord0001-282', 'jord0001-288', 'jord0001-289', 'jord0001-290', 'jord0001-296', 'jord0001-300', 'jord0001-305', 'jord0001-308', 'jord0001-311', 'jord0001-314', 'jord0001-316', 'jord0001-317', 'jord0001-318', 'jord0001-319', 'jord0001-320', 'jord0001-322', 'jord0001-324', 'jord0001-325', 'jord0001-327', 'jord0001-328', 'jord0001-329', 'jord0001-330', 'jord0001-332', 'jord0001-333', 'jord0001-334', 'jord0001-335', 'jord0001-336', 'jord0001-338', 'jord0001-341', 'jord0001-342', 'jord0001-343', 'jord0001-344', 'jord0001-346', 'jord0001-347', 'jord0001-354', 'jord0001-356', 'jord0001-357', 'jord0001-358', 'jord0001-36', 'jord0001-360', 'jord0001-361', 'jord0001-362', 'jord0001-364', 'jord0001-365', 'jord0001-366', 'jord0001-367', 'jord0001-368', 'jord0001-37', 'jord0001-371', 'jord0001-372', 'jord0001-373', 'jord0001-374', 'jord0001-375', 'jord0001-377', 'jord0001-378', 'jord0001-379', 'jord0001-38', 'jord0001-380', 'jord0001-382', 'jord0001-383', 'jord0001-385', 'jord0001-387', 'jord0001-388', 'jord0001-39', 'jord0001-40', 'jord0001-401', 'jord0001-404', 'jord0001-406', 'jord0001-407', 'jord0001-410', 'jord0001-412', 'jord0001-413', 'jord0001-416', 'jord0001-417', 'jord0001-419', 'jord0001-42', 'jord0001-420', 'jord0001-421', 'jord0001-422', 'jord0001-427', 'jord0001-430', 'jord0001-431', 'jord0001-432', 'jord0001-433', 'jord0001-434', 'jord0001-435', 'jord0001-436', 'jord0001-439', 'jord0001-44', 'jord0001-440', 'jord0001-446', 'jord0001-45', 'jord0001-47', 'jord0001-48', 'jord0001-49', 'jord0001-50', 'jord0001-51', 'jord0001-52', 'jord0001-53', 'jord0001-55', 'jord0001-56', 'jord0001-57', 'jord0001-58', 'jord0001-6', 'jord0001-60', 'jord0001-63', 'jord0001-64', 'jord0001-65', 'jord0001-66', 'jord0001-67', 'jord0001-68', 'jord0001-7', 'jord0001-71', 'jord0001-72', 'jord0001-73', 'jord0001-74', 'jord0001-76', 'jord0001-78', 'jord0001-79', 'jord0001-80', 'jord0001-81', 'jord0001-82', 'jord0001-83', 'jord0001-84', 'jord0001-86', 'jord0001-87', 'jord0001-91', 'jord0001-92', 'jord0001-93', 'jord0001-94', 'jord0001-95', 'jord0001-97', 'jord0001-98', 'jord0001-99', 'kafr0011-14', 'kzaa0015-2', 'maay0001-15', 'mare0136-64', 'mare0188-3', 'mare0227-131', 'mare0227-135', 'mart0003-3', 'masa0401-2', 'masa0418-1', 'masa0429-1', 'masa0430-1', 'masa0435-1', 'masa0437-1', 'masa0452-5', 'masa0452-6', 'masa0452-7', 'masa0462-1', 'masa0466-3', 'masa0467-1', 'masa0468-1', 'masa0469-1', 'masa0472-2', 'masa0484-1', 'masa0485-1', 'masa0486-1', 'masa0503-1', 'masa0537-2', 'masa0539-1', 'masa0540-1', 'masa0540-2', 'masa0547-2', 'masa0779-7', 'masa0797-1', 'mger0150-3', 'natt0004-1', 'odob0025-1', 'odob0025-2', 'odob0025-3', 'odob0025-4', 'qumr0001-15', 'qumr0001-16', 'qumr0001-17', 'qumr0001-26', 'qumr0001-27', 'qumr0001-29', 'qumr0001-35', 'qumr0001-36', 'qumr0001-37', 'qumr0001-7', 'qumr0002-5', 'qumr0002-6', 'rafi0005-4', 'tibe0001-4', 'tibe0001-5', 'tibe0001-6', 'tibe0001-7', 'tibe0001-8', 'tibe0001-9', 'ulat0001-15', 'zoor0067-10', 'zoor0067-9', 'zoor0087-6', 'zoor0143-15', 'zoor0147-18', 'zoor0158-11', 'zoor0202-17', 'zoor0202-21', 'zoor0216-1', 'zoor0221-17', 'zoor0225-17', 'zoor0225-21', 'zoor0247-3', 'zoor0255-8', 'zoor0291-13', 'zoor0292-10', 'zoor0295-3', 'zoor0314-1', 'zoor0317-22', 'zoor0326-10', 'zoor0326-4', 'zoor0331-12', 'zoor0356-22', 'zoor0380-17', 'zoor0402-12', 'zoor0420-11', 'zoor0427-28', 'zoor0428-3', 'zoor0433-9']\n",
      "\n",
      "MULTIPLE MATCHES:\n",
      " ['akld0019-1', 'akld0024-3', 'alji0002-3', 'arch0005-12', 'ashk0002-12', 'ashk0002-25', 'bani0100-1', 'beth0236-2', 'beth0237-33', 'beth0238-7', 'beth0238-8', 'beth0239-11', 'beth0239-12', 'beth0246-10', 'beth0246-12', 'beth0246-3', 'beth0246-6', 'beth0246-7', 'beth0248-11', 'beth0248-12', 'beth0248-13', 'beth0248-14', 'beth0248-17', 'beth0248-3', 'beth0248-6', 'beth0248-7', 'beth0248-9', 'beth0261-3', 'beth0265-1', 'beth0266-1', 'beth0271-1', 'beth0276-1', 'birs0005-5', 'bshe0027-5', 'bshe0101-4', 'caes0442-4', 'caes0671-3', 'evro0002-23', 'gaza0110-3', 'gaza0111-12', 'hadi0001-10', 'hadi0001-11', 'hadi0001-15', 'hadi0001-16', 'hadi0001-2', 'hadi0001-3', 'hadi0001-4', 'hadi0001-5', 'hadi0001-8', 'hadi0001-9', 'hamm0005-3', 'hamm0010-25', 'hamm0029-3', 'hamm0057-1', 'huqo0001-14', 'idum0169-4', 'jaff0019-2', 'jaff0057-7', 'jaff0065-7', 'jeru0055-2', 'jeru0300-6', 'jeru0303-12', 'jeru0319-1', 'jeru0319-2', 'jeru0355-1', 'jeru0357-11', 'jeru0357-12', 'jeru0357-13', 'jeru0357-14', 'jeru0357-17', 'jeru0357-18', 'jeru0357-19', 'jeru0357-20', 'jeru0357-21', 'jeru0357-23', 'jeru0357-7', 'jeru0369-3', 'jeru0369-5', 'jeru0375-1', 'jeru0399-1', 'jeru0427-3', 'jeru0449-13', 'jeru0449-14', 'jeru0449-15', 'jeru0449-17', 'jeru0464-1', 'jeru0485-1', 'jeru0490-2', 'jeru0492-11', 'jeru0492-15', 'jeru0492-23', 'jeru0501-2', 'jeru0509-2', 'jeru0526-1', 'jeru0528-1', 'jord0001-100', 'jord0001-101', 'jord0001-109', 'jord0001-117', 'jord0001-119', 'jord0001-123', 'jord0001-124', 'jord0001-125', 'jord0001-127', 'jord0001-130', 'jord0001-133', 'jord0001-135', 'jord0001-139', 'jord0001-140', 'jord0001-142', 'jord0001-144', 'jord0001-146', 'jord0001-147', 'jord0001-149', 'jord0001-15', 'jord0001-16', 'jord0001-162', 'jord0001-163', 'jord0001-164', 'jord0001-166', 'jord0001-167', 'jord0001-168', 'jord0001-171', 'jord0001-172', 'jord0001-175', 'jord0001-179', 'jord0001-187', 'jord0001-201', 'jord0001-206', 'jord0001-212', 'jord0001-219', 'jord0001-221', 'jord0001-238', 'jord0001-249', 'jord0001-252', 'jord0001-261', 'jord0001-263', 'jord0001-27', 'jord0001-271', 'jord0001-272', 'jord0001-273', 'jord0001-274', 'jord0001-277', 'jord0001-278', 'jord0001-279', 'jord0001-280', 'jord0001-282', 'jord0001-288', 'jord0001-300', 'jord0001-311', 'jord0001-314', 'jord0001-316', 'jord0001-320', 'jord0001-332', 'jord0001-333', 'jord0001-334', 'jord0001-335', 'jord0001-338', 'jord0001-342', 'jord0001-357', 'jord0001-358', 'jord0001-36', 'jord0001-360', 'jord0001-362', 'jord0001-364', 'jord0001-365', 'jord0001-379', 'jord0001-382', 'jord0001-40', 'jord0001-412', 'jord0001-419', 'jord0001-420', 'jord0001-422', 'jord0001-430', 'jord0001-436', 'jord0001-446', 'jord0001-45', 'jord0001-48', 'jord0001-50', 'jord0001-51', 'jord0001-52', 'jord0001-53', 'jord0001-55', 'jord0001-57', 'jord0001-58', 'jord0001-66', 'jord0001-73', 'jord0001-80', 'jord0001-82', 'jord0001-83', 'jord0001-84', 'jord0001-86', 'jord0001-87', 'jord0001-95', 'jord0001-97', 'jord0001-98', 'kama0003-4', 'khis0083-12', 'khis0083-5', 'masa0418-1', 'masa0429-1', 'masa0430-1', 'masa0435-1', 'masa0437-1', 'masa0462-1', 'masa0466-3', 'masa0467-1', 'masa0469-1', 'masa0484-1', 'masa0486-1', 'masa0503-1', 'masa0547-2', 'masa0779-3', 'masa0941-15', 'masa0941-7', 'mger0150-3', 'natt0004-2', 'natt0004-4', 'natt0005-1', 'natt0006-1', 'odob0025-2', 'odob0025-3', 'qumr0001-17', 'qumr0001-26', 'qumr0001-27', 'qumr0001-29', 'qumr0001-35', 'qumr0001-36', 'qumr0001-37', 'qumr0001-7', 'qumr0002-5', 'qumr0002-6', 'rafi0005-3', 'suhm0001-37', 'zoor0017-4', 'zoor0067-11', 'zoor0067-13', 'zoor0067-16', 'zoor0067-19', 'zoor0116-16', 'zoor0208-8', 'zoor0214-13', 'zoor0215-16', 'zoor0216-14', 'zoor0226-19', 'zoor0228-9', 'zoor0239-18', 'zoor0240-19', 'zoor0242-18', 'zoor0243-13', 'zoor0377-10', 'zoor0377-11', 'zoor0377-17', 'zoor0377-20', 'zoor0377-24', 'zoor0377-4', 'zoor0377-5', 'zoor0377-6', 'zoor0377-7', 'zoor0377-8', 'zoor0377-9', 'zoor0389-4', 'zoor0402-12']\n"
     ]
    }
   ],
   "source": [
    "oneMatch = []\n",
    "multMatches = []\n",
    "noMatches = []\n",
    "notInXML = []\n",
    "\n",
    "for wordID in orphanedWordIDs:\n",
    "    fileID = wordID.split('-')[0]\n",
    "    if fileID not in wordsFromXML:\n",
    "        notInXML.append(wordID)\n",
    "        continue\n",
    "    if wordID not in wordsFromXML[fileID]:\n",
    "        notInXML.append(wordID)\n",
    "        continue\n",
    "    #print(wordID, '\\t', wordsFromXML[fileID][wordID])\n",
    "    wordFromXML = wordsFromXML[fileID][wordID]\n",
    "    matchCount = 0\n",
    "    noAccentWordFromXML = \"\".join([unicodedata.normalize(\"NFD\", ch)[0].lower() for ch in wordFromXML])\n",
    "        \n",
    "    for lang in validatedCSVs2:\n",
    "        for i, row in enumerate(validatedCSVs2[lang]):\n",
    "            noAccentWordFromCSV = \"\".join([unicodedata.normalize(\"NFD\", ch)[0].lower() for ch in row[0]])\n",
    "            if wordFromXML == row[0]:\n",
    "                matchCount+=1\n",
    "            elif wordFromXML.lower() == row[0].lower():\n",
    "                matchCount+=1\n",
    "            elif noAccentWordFromXML.lower() == noAccentWordFromCSV.lower():\n",
    "                matchCount+=1\n",
    "\n",
    "        if matchCount == 0:\n",
    "            noMatches.append(wordID)\n",
    "        elif matchCount == 1:\n",
    "            oneMatch.append(wordID)\n",
    "        elif matchCount > 1:\n",
    "            multMatches.append(wordID)\n",
    "        \n",
    "oneMatch = sorted(list(set(oneMatch)))\n",
    "multMatches = sorted(list(set(multMatches)))\n",
    "noMatches = sorted(list(set(noMatches)))\n",
    "notInXML = sorted(list(set(notInXML)))\n",
    "        \n",
    "print(f\"NOT IN XML:\\n {len(notInXML)} wordIDs.\")\n",
    "print(\"\\nNO MATCHES:\\n\", noMatches)\n",
    "print(\"\\nONE MATCH:\\n\", oneMatch)\n",
    "print(\"\\nMULTIPLE MATCHES:\\n\", multMatches)"
   ]
  },
  {
   "cell_type": "code",
   "execution_count": 26,
   "metadata": {
    "collapsed": true
   },
   "outputs": [],
   "source": [
    "for wordID in oneMatch:\n",
    "    fileID = wordID.split('-')[0]\n",
    "    wordFromXML = wordsFromXML[fileID][wordID]\n",
    "    noAccentWordFromXML = \"\".join([unicodedata.normalize(\"NFD\", ch)[0].lower() for ch in wordFromXML])\n",
    "        \n",
    "    for lang in validatedCSVs2:\n",
    "        for i, row in enumerate(validatedCSVs2[lang]):\n",
    "            noAccentWordFromCSV = \"\".join([unicodedata.normalize(\"NFD\", ch)[0].lower() for ch in row[0]])\n",
    "            if wordFromXML == row[0]:\n",
    "                validatedCSVs2[lang][i][1] = \", \".join(get_occur_list(f\"{validatedCSVs2[lang][i][1]} {wordID}\"))\n",
    "            elif wordFromXML.lower() == row[0].lower():\n",
    "                validatedCSVs2[lang][i][1] = \", \".join(get_occur_list(f\"{validatedCSVs2[lang][i][1]} {wordID}\"))\n",
    "            elif noAccentWordFromXML.lower() == noAccentWordFromCSV.lower():\n",
    "                validatedCSVs2[lang][i][1] = \", \".join(get_occur_list(f\"{validatedCSVs2[lang][i][1]} {wordID}\"))"
   ]
  },
  {
   "cell_type": "code",
   "execution_count": 27,
   "metadata": {
    "collapsed": true
   },
   "outputs": [],
   "source": [
    "for lang in validatedCSVs2:\n",
    "    with open(f'csvs_new/corr_{lang}-validated.csv','w') as csvfile:\n",
    "        csvwriter = csv.writer(csvfile)\n",
    "        csvwriter.writerows(validatedCSVs2[lang])"
   ]
  }
 ],
 "metadata": {
  "kernelspec": {
   "display_name": "Python 3",
   "language": "python",
   "name": "python3"
  },
  "language_info": {
   "codemirror_mode": {
    "name": "ipython",
    "version": 3
   },
   "file_extension": ".py",
   "mimetype": "text/x-python",
   "name": "python",
   "nbconvert_exporter": "python",
   "pygments_lexer": "ipython3",
   "version": "3.6.2"
  }
 },
 "nbformat": 4,
 "nbformat_minor": 2
}
